{
 "cells": [
  {
   "cell_type": "code",
   "execution_count": 0,
   "metadata": {
    "colab": {
     "base_uri": "https://localhost:8080/",
     "height": 34
    },
    "colab_type": "code",
    "executionInfo": {
     "elapsed": 699,
     "status": "ok",
     "timestamp": 1569589612859,
     "user": {
      "displayName": "吳昱陞",
      "photoUrl": "https://lh3.googleusercontent.com/a-/AAuE7mDwbSNSYwDqvQx__AA0atitaVdkPHdvpVTMvyYq=s64",
      "userId": "05244345485167052723"
     },
     "user_tz": -480
    },
    "id": "6nwlMCcFkIcF",
    "outputId": "3aedf830-cbb2-4cac-8ea7-b28533ce6371"
   },
   "outputs": [
    {
     "name": "stdout",
     "output_type": "stream",
     "text": [
      "Drive already mounted at /content/drive; to attempt to forcibly remount, call drive.mount(\"/content/drive\", force_remount=True).\n"
     ]
    }
   ],
   "source": [
    "from google.colab import drive\n",
    "drive.mount('/content/drive')\n",
    "import pandas as pd\n",
    "import numpy as np\n",
    "import matplotlib.pyplot as plt\n",
    "%matplotlib inline\n",
    "import seaborn as sns\n",
    "from matplotlib.font_manager import FontProperties\n"
   ]
  },
  {
   "cell_type": "code",
   "execution_count": 0,
   "metadata": {
    "colab": {
     "base_uri": "https://localhost:8080/",
     "height": 51
    },
    "colab_type": "code",
    "executionInfo": {
     "elapsed": 2963,
     "status": "ok",
     "timestamp": 1569589615143,
     "user": {
      "displayName": "吳昱陞",
      "photoUrl": "https://lh3.googleusercontent.com/a-/AAuE7mDwbSNSYwDqvQx__AA0atitaVdkPHdvpVTMvyYq=s64",
      "userId": "05244345485167052723"
     },
     "user_tz": -480
    },
    "id": "ReueAsokkVQa",
    "outputId": "25aa084d-c665-4f1b-ea82-e9876c3b3c17"
   },
   "outputs": [
    {
     "name": "stderr",
     "output_type": "stream",
     "text": [
      "/usr/local/lib/python3.6/dist-packages/IPython/core/interactiveshell.py:2718: DtypeWarning: Columns (17,21,22) have mixed types. Specify dtype option on import or set low_memory=False.\n",
      "  interactivity=interactivity, compiler=compiler, result=result)\n"
     ]
    }
   ],
   "source": [
    "df = pd.read_csv(r\"drive/My Drive/Colab Notebooks/train.csv\", encoding=\"big5\")\n",
    "\n",
    "df['Y1'] = df['Y1'].map({'Y':1, 'N':0})\n",
    "df_cp = df.copy()"
   ]
  },
  {
   "cell_type": "code",
   "execution_count": 0,
   "metadata": {
    "colab": {},
    "colab_type": "code",
    "id": "1NjV6ac8rLgW"
   },
   "outputs": [],
   "source": [
    "#多個類別轉0,1\n",
    "def mulClass_to_01(df_ts):\n",
    "  df_ts = df_ts.transform(lambda x: 0 if x == 0 else 1)\n",
    "  return df_ts"
   ]
  },
  {
   "cell_type": "code",
   "execution_count": 0,
   "metadata": {
    "colab": {},
    "colab_type": "code",
    "id": "EnFhK71tvCT5"
   },
   "outputs": [],
   "source": [
    "#Y,N轉0,1\n",
    "def YN_to_01(df_ts):\n",
    "  df_ts = df_ts.map({'Y':1, 'N':0})\n",
    "  return df_ts"
   ]
  },
  {
   "cell_type": "code",
   "execution_count": 0,
   "metadata": {
    "colab": {
     "base_uri": "https://localhost:8080/",
     "height": 437
    },
    "colab_type": "code",
    "executionInfo": {
     "elapsed": 3723,
     "status": "ok",
     "timestamp": 1569589615932,
     "user": {
      "displayName": "吳昱陞",
      "photoUrl": "https://lh3.googleusercontent.com/a-/AAuE7mDwbSNSYwDqvQx__AA0atitaVdkPHdvpVTMvyYq=s64",
      "userId": "05244345485167052723"
     },
     "user_tz": -480
    },
    "id": "OHWUQtRYuLu7",
    "outputId": "beabaa33-418b-4571-e0bf-3d9c4dd4c773"
   },
   "outputs": [
    {
     "name": "stdout",
     "output_type": "stream",
     "text": [
      "1    56686\n",
      "0    43314\n",
      "Name: AG_CNT, dtype: int64\n"
     ]
    },
    {
     "data": {
      "text/plain": [
       "<seaborn.axisgrid.FacetGrid at 0x7f48f8b558d0>"
      ]
     },
     "execution_count": 106,
     "metadata": {
      "tags": []
     },
     "output_type": "execute_result"
    },
    {
     "data": {
      "image/png": "[encoded data removed]",
      "text/plain": [
       "<Figure size 360x360 with 1 Axes>"
      ]
     },
     "metadata": {
      "tags": []
     },
     "output_type": "display_data"
    }
   ],
   "source": [
    "df_cp['AG_CNT'] = mulClass_to_01(df_cp['AG_CNT'])\n",
    "print(df_cp['AG_CNT'].value_counts())\n",
    "sns.catplot(x=\"AG_CNT\", y=\"Y1\", kind=\"bar\", data=df_cp, ci=None)"
   ]
  },
  {
   "cell_type": "code",
   "execution_count": 0,
   "metadata": {
    "colab": {
     "base_uri": "https://localhost:8080/",
     "height": 437
    },
    "colab_type": "code",
    "executionInfo": {
     "elapsed": 4382,
     "status": "ok",
     "timestamp": 1569589616601,
     "user": {
      "displayName": "吳昱陞",
      "photoUrl": "https://lh3.googleusercontent.com/a-/AAuE7mDwbSNSYwDqvQx__AA0atitaVdkPHdvpVTMvyYq=s64",
      "userId": "05244345485167052723"
     },
     "user_tz": -480
    },
    "id": "d8x0-0OouUph",
    "outputId": "0e46fac3-c9f6-4592-e910-b11eb4a55166"
   },
   "outputs": [
    {
     "name": "stdout",
     "output_type": "stream",
     "text": [
      "0    64719\n",
      "1    35281\n",
      "Name: AG_NOW_CNT, dtype: int64\n"
     ]
    },
    {
     "data": {
      "text/plain": [
       "<seaborn.axisgrid.FacetGrid at 0x7f48f90c3630>"
      ]
     },
     "execution_count": 107,
     "metadata": {
      "tags": []
     },
     "output_type": "execute_result"
    },
    {
     "data": {
      "image/png": "[encoded data removed]",
      "text/plain": [
       "<Figure size 360x360 with 1 Axes>"
      ]
     },
     "metadata": {
      "tags": []
     },
     "output_type": "display_data"
    }
   ],
   "source": [
    "df_cp['AG_NOW_CNT'] = mulClass_to_01(df_cp['AG_NOW_CNT'])\n",
    "print(df_cp['AG_NOW_CNT'].value_counts())\n",
    "sns.catplot(x=\"AG_NOW_CNT\", y=\"Y1\", kind=\"bar\", data=df_cp, ci=None)"
   ]
  },
  {
   "cell_type": "code",
   "execution_count": 0,
   "metadata": {
    "colab": {
     "base_uri": "https://localhost:8080/",
     "height": 437
    },
    "colab_type": "code",
    "executionInfo": {
     "elapsed": 5224,
     "status": "ok",
     "timestamp": 1569589617452,
     "user": {
      "displayName": "吳昱陞",
      "photoUrl": "https://lh3.googleusercontent.com/a-/AAuE7mDwbSNSYwDqvQx__AA0atitaVdkPHdvpVTMvyYq=s64",
      "userId": "05244345485167052723"
     },
     "user_tz": -480
    },
    "id": "mecGWIKNuVRG",
    "outputId": "fd3965db-7ba8-4e91-c0f9-86e74829a130"
   },
   "outputs": [
    {
     "name": "stdout",
     "output_type": "stream",
     "text": [
      "0    56179\n",
      "1    43821\n",
      "Name: CLC_CUR_NUM, dtype: int64\n"
     ]
    },
    {
     "data": {
      "text/plain": [
       "<seaborn.axisgrid.FacetGrid at 0x7f48f3a960b8>"
      ]
     },
     "execution_count": 108,
     "metadata": {
      "tags": []
     },
     "output_type": "execute_result"
    },
    {
     "data": {
      "image/png": "[encoded data removed]",
      "text/plain": [
       "<Figure size 360x360 with 1 Axes>"
      ]
     },
     "metadata": {
      "tags": []
     },
     "output_type": "display_data"
    }
   ],
   "source": [
    "df_cp['CLC_CUR_NUM'] = mulClass_to_01(df_cp['CLC_CUR_NUM'])\n",
    "print(df_cp['CLC_CUR_NUM'].value_counts())\n",
    "sns.catplot(x=\"CLC_CUR_NUM\", y=\"Y1\", kind=\"bar\", data=df_cp, ci=None)"
   ]
  },
  {
   "cell_type": "code",
   "execution_count": 0,
   "metadata": {
    "colab": {
     "base_uri": "https://localhost:8080/",
     "height": 437
    },
    "colab_type": "code",
    "executionInfo": {
     "elapsed": 5893,
     "status": "ok",
     "timestamp": 1569589618130,
     "user": {
      "displayName": "吳昱陞",
      "photoUrl": "https://lh3.googleusercontent.com/a-/AAuE7mDwbSNSYwDqvQx__AA0atitaVdkPHdvpVTMvyYq=s64",
      "userId": "05244345485167052723"
     },
     "user_tz": -480
    },
    "id": "D9pzkWLPuVV-",
    "outputId": "3698fdb5-1fff-48cf-8cf2-28a7f262db4e"
   },
   "outputs": [
    {
     "name": "stdout",
     "output_type": "stream",
     "text": [
      "0    68792\n",
      "1    31208\n",
      "Name: TOOL_VISIT_1YEAR_CNT, dtype: int64\n"
     ]
    },
    {
     "data": {
      "text/plain": [
       "<seaborn.axisgrid.FacetGrid at 0x7f48f39ad400>"
      ]
     },
     "execution_count": 109,
     "metadata": {
      "tags": []
     },
     "output_type": "execute_result"
    },
    {
     "data": {
      "image/png": "[encoded data removed]",
      "text/plain": [
       "<Figure size 360x360 with 1 Axes>"
      ]
     },
     "metadata": {
      "tags": []
     },
     "output_type": "display_data"
    }
   ],
   "source": [
    "df_cp['TOOL_VISIT_1YEAR_CNT'] = mulClass_to_01(df_cp['TOOL_VISIT_1YEAR_CNT'])\n",
    "print(df_cp['TOOL_VISIT_1YEAR_CNT'].value_counts())\n",
    "sns.catplot(x=\"TOOL_VISIT_1YEAR_CNT\", y=\"Y1\", kind=\"bar\", data=df_cp, ci=None)"
   ]
  },
  {
   "cell_type": "code",
   "execution_count": 0,
   "metadata": {
    "colab": {
     "base_uri": "https://localhost:8080/",
     "height": 437
    },
    "colab_type": "code",
    "executionInfo": {
     "elapsed": 7091,
     "status": "ok",
     "timestamp": 1569589619336,
     "user": {
      "displayName": "吳昱陞",
      "photoUrl": "https://lh3.googleusercontent.com/a-/AAuE7mDwbSNSYwDqvQx__AA0atitaVdkPHdvpVTMvyYq=s64",
      "userId": "05244345485167052723"
     },
     "user_tz": -480
    },
    "id": "gBrdV6a10kBT",
    "outputId": "5666c582-fb20-44b5-f9d4-70d511c80e18"
   },
   "outputs": [
    {
     "name": "stdout",
     "output_type": "stream",
     "text": [
      "0    75242\n",
      "1    24758\n",
      "Name: IF_ADD_IND, dtype: int64\n"
     ]
    },
    {
     "data": {
      "text/plain": [
       "<seaborn.axisgrid.FacetGrid at 0x7f48f8e1eda0>"
      ]
     },
     "execution_count": 110,
     "metadata": {
      "tags": []
     },
     "output_type": "execute_result"
    },
    {
     "data": {
      "image/png": "[encoded data removed]",
      "text/plain": [
       "<Figure size 360x360 with 1 Axes>"
      ]
     },
     "metadata": {
      "tags": []
     },
     "output_type": "display_data"
    }
   ],
   "source": [
    "df_cp['IF_ADD_IND'] = YN_to_01(df_cp['IF_ADD_IND'])\n",
    "print(df_cp['IF_ADD_IND'].value_counts())\n",
    "sns.catplot(x=\"IF_ADD_IND\", y=\"Y1\", kind=\"bar\", data=df_cp, ci=None)"
   ]
  },
  {
   "cell_type": "code",
   "execution_count": 0,
   "metadata": {
    "colab": {},
    "colab_type": "code",
    "id": "oiievvdUtJiE"
   },
   "outputs": [],
   "source": [
    "def IM_CNT(df_ts):\n",
    "  df_ts['IM_CNT'] = df_ts['IM_CNT'].transform(lambda x: 0 if x == 0 else(0.25 if x == 1 else(0.5 if x == 2 else(0.75 if x == 3 else 1))))\n",
    "  return df_ts"
   ]
  },
  {
   "cell_type": "code",
   "execution_count": 0,
   "metadata": {
    "colab": {
     "base_uri": "https://localhost:8080/",
     "height": 488
    },
    "colab_type": "code",
    "executionInfo": {
     "elapsed": 7500,
     "status": "ok",
     "timestamp": 1569589619761,
     "user": {
      "displayName": "吳昱陞",
      "photoUrl": "https://lh3.googleusercontent.com/a-/AAuE7mDwbSNSYwDqvQx__AA0atitaVdkPHdvpVTMvyYq=s64",
      "userId": "05244345485167052723"
     },
     "user_tz": -480
    },
    "id": "24saLGiDnDj-",
    "outputId": "ef2dd68d-801e-4a3b-8d66-7d3df5982d38"
   },
   "outputs": [
    {
     "name": "stdout",
     "output_type": "stream",
     "text": [
      "0.00    71780\n",
      "0.25    19964\n",
      "0.50     6414\n",
      "0.75     1782\n",
      "1.00       60\n",
      "Name: IM_CNT, dtype: int64\n"
     ]
    },
    {
     "data": {
      "text/plain": [
       "<seaborn.axisgrid.FacetGrid at 0x7f48f39079e8>"
      ]
     },
     "execution_count": 112,
     "metadata": {
      "tags": []
     },
     "output_type": "execute_result"
    },
    {
     "data": {
      "image/png": "[encoded data removed]",
      "text/plain": [
       "<Figure size 360x360 with 1 Axes>"
      ]
     },
     "metadata": {
      "tags": []
     },
     "output_type": "display_data"
    }
   ],
   "source": [
    "df_cp = IM_CNT(df_cp)\n",
    "print(df_cp['IM_CNT'].value_counts())\n",
    "sns.catplot(x=\"IM_CNT\", y=\"Y1\", kind=\"bar\", data=df_cp, ci=None)"
   ]
  }
 ],
 "metadata": {
  "colab": {
   "collapsed_sections": [],
   "name": "dataPre.ipynb",
   "provenance": []
  },
  "kernelspec": {
   "display_name": "Python 3",
   "language": "python",
   "name": "python3"
  },
  "language_info": {
   "codemirror_mode": {
    "name": "ipython",
    "version": 3
   },
   "file_extension": ".py",
   "mimetype": "text/x-python",
   "name": "python",
   "nbconvert_exporter": "python",
   "pygments_lexer": "ipython3",
   "version": "3.6.12"
  }
 },
 "nbformat": 4,
 "nbformat_minor": 1
}
