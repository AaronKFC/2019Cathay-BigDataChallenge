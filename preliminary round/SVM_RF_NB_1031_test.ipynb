{
 "cells": [
  {
   "cell_type": "markdown",
   "metadata": {},
   "source": [
    "## Final Project Code for Data Parsing and SVM, RF, NB classifiers"
   ]
  },
  {
   "cell_type": "code",
   "execution_count": 13,
   "metadata": {},
   "outputs": [],
   "source": [
    "import matplotlib.pyplot as plt\n",
    "import numpy as np\n",
    "import pandas as pd\n",
    "import sklearn as sk\n",
    "\n",
    "from os import listdir\n",
    "from os.path import isfile, join\n",
    "from IPython.display import display, Image\n",
    "from sklearn.linear_model import LogisticRegression\n",
    "from sklearn.preprocessing import LabelBinarizer\n",
    "from sklearn import preprocessing\n",
    "from sklearn.metrics import roc_curve, auc\n",
    "from sklearn.preprocessing import OneHotEncoder\n",
    "from sklearn import model_selection\n",
    "from sklearn.multiclass import OneVsRestClassifier\n",
    "from sklearn.ensemble import RandomForestClassifier\n",
    "from sklearn.naive_bayes import GaussianNB\n",
    "from timeit import default_timer as timer\n",
    "# needed to see images\n",
    "from IPython.display import display, Image\n",
    "\n",
    "# Config the matlotlib backend as plotting inline in IPython\n",
    "#%matplotlib inline\n",
    "import time\n",
    "import pickle\n",
    "import seaborn as sns\n",
    "import librosa\n",
    "current_palette = sns.color_palette()"
   ]
  },
  {
   "cell_type": "code",
   "execution_count": 2,
   "metadata": {},
   "outputs": [
    {
     "data": {
      "text/html": [
       "<div>\n",
       "<style scoped>\n",
       "    .dataframe tbody tr th:only-of-type {\n",
       "        vertical-align: middle;\n",
       "    }\n",
       "\n",
       "    .dataframe tbody tr th {\n",
       "        vertical-align: top;\n",
       "    }\n",
       "\n",
       "    .dataframe thead th {\n",
       "        text-align: right;\n",
       "    }\n",
       "</style>\n",
       "<table border=\"1\" class=\"dataframe\">\n",
       "  <thead>\n",
       "    <tr style=\"text-align: right;\">\n",
       "      <th></th>\n",
       "      <th>slice_file_name</th>\n",
       "      <th>fsID</th>\n",
       "      <th>start</th>\n",
       "      <th>end</th>\n",
       "      <th>salience</th>\n",
       "      <th>fold</th>\n",
       "      <th>classID</th>\n",
       "      <th>class</th>\n",
       "    </tr>\n",
       "  </thead>\n",
       "  <tbody>\n",
       "    <tr>\n",
       "      <th>0</th>\n",
       "      <td>100032-3-0-0.wav</td>\n",
       "      <td>100032</td>\n",
       "      <td>0.0</td>\n",
       "      <td>0.317551</td>\n",
       "      <td>1</td>\n",
       "      <td>5</td>\n",
       "      <td>3</td>\n",
       "      <td>dog_bark</td>\n",
       "    </tr>\n",
       "    <tr>\n",
       "      <th>1</th>\n",
       "      <td>100263-2-0-117.wav</td>\n",
       "      <td>100263</td>\n",
       "      <td>58.5</td>\n",
       "      <td>62.500000</td>\n",
       "      <td>1</td>\n",
       "      <td>5</td>\n",
       "      <td>2</td>\n",
       "      <td>children_playing</td>\n",
       "    </tr>\n",
       "    <tr>\n",
       "      <th>2</th>\n",
       "      <td>100263-2-0-121.wav</td>\n",
       "      <td>100263</td>\n",
       "      <td>60.5</td>\n",
       "      <td>64.500000</td>\n",
       "      <td>1</td>\n",
       "      <td>5</td>\n",
       "      <td>2</td>\n",
       "      <td>children_playing</td>\n",
       "    </tr>\n",
       "    <tr>\n",
       "      <th>3</th>\n",
       "      <td>100263-2-0-126.wav</td>\n",
       "      <td>100263</td>\n",
       "      <td>63.0</td>\n",
       "      <td>67.000000</td>\n",
       "      <td>1</td>\n",
       "      <td>5</td>\n",
       "      <td>2</td>\n",
       "      <td>children_playing</td>\n",
       "    </tr>\n",
       "    <tr>\n",
       "      <th>4</th>\n",
       "      <td>100263-2-0-137.wav</td>\n",
       "      <td>100263</td>\n",
       "      <td>68.5</td>\n",
       "      <td>72.500000</td>\n",
       "      <td>1</td>\n",
       "      <td>5</td>\n",
       "      <td>2</td>\n",
       "      <td>children_playing</td>\n",
       "    </tr>\n",
       "  </tbody>\n",
       "</table>\n",
       "</div>"
      ],
      "text/plain": [
       "      slice_file_name    fsID  start        end  salience  fold  classID  \\\n",
       "0    100032-3-0-0.wav  100032    0.0   0.317551         1     5        3   \n",
       "1  100263-2-0-117.wav  100263   58.5  62.500000         1     5        2   \n",
       "2  100263-2-0-121.wav  100263   60.5  64.500000         1     5        2   \n",
       "3  100263-2-0-126.wav  100263   63.0  67.000000         1     5        2   \n",
       "4  100263-2-0-137.wav  100263   68.5  72.500000         1     5        2   \n",
       "\n",
       "              class  \n",
       "0          dog_bark  \n",
       "1  children_playing  \n",
       "2  children_playing  \n",
       "3  children_playing  \n",
       "4  children_playing  "
      ]
     },
     "execution_count": 2,
     "metadata": {},
     "output_type": "execute_result"
    }
   ],
   "source": [
    "raw_sound = pd.read_csv('UrbanSound8K_HF1030/metadata/UrbanSound8K.csv')\n",
    "raw_sound.head()"
   ]
  },
  {
   "cell_type": "code",
   "execution_count": 3,
   "metadata": {},
   "outputs": [
    {
     "name": "stdout",
     "output_type": "stream",
     "text": [
      "[[-0.01174927  0.03039551]\n",
      " [-0.01153564  0.02471924]\n",
      " [-0.01644897  0.01794434]\n",
      " ...\n",
      " [-0.00588989  0.00012207]\n",
      " [ 0.00314331  0.00585938]\n",
      " [ 0.00540161  0.00689697]] 44100\n"
     ]
    }
   ],
   "source": [
    "import soundfile as sf\n",
    "data, samplerate = sf.read('UrbanSound8K_HF1030/audio/fold1/102106-3-0-0.wav')\n",
    "print(data, samplerate)"
   ]
  },
  {
   "cell_type": "code",
   "execution_count": 4,
   "metadata": {},
   "outputs": [
    {
     "name": "stdout",
     "output_type": "stream",
     "text": [
      "['fold1', 'fold2', 'fold3', 'fold4', 'fold5', 'fold6', 'fold7', 'fold8', 'fold9', 'fold10']\n"
     ]
    }
   ],
   "source": [
    "fold_list = []\n",
    "for i in range(1,11):\n",
    "    fold_name = 'fold' + str(i)\n",
    "    fold_list.append(fold_name)\n",
    "print(fold_list)"
   ]
  },
  {
   "cell_type": "code",
   "execution_count": 7,
   "metadata": {},
   "outputs": [],
   "source": [
    "'''Set parameters'''\n",
    "n_mfcc = 40\n",
    "hop_length = 512\n",
    "# nfft defaults 2048 in librosa\n",
    "n_mels = 40"
   ]
  },
  {
   "cell_type": "code",
   "execution_count": 8,
   "metadata": {},
   "outputs": [],
   "source": [
    "def extract_feature(file_name):\n",
    "    \"\"\"\n",
    "    Extracts 193 chromatographic features from sound file. \n",
    "    including: MFCC's, Chroma_StFt, Melspectrogram, Spectral Contrast, and Tonnetz\n",
    "    NOTE: this extraction technique changes the time series nature of the data\n",
    "    \"\"\"\n",
    "    X, sample_rate = librosa.load(file_name,sr=None)\n",
    "    X_22050, sam_rate_22050 = librosa.load(file_name)\n",
    "    stft_22050 = np.abs(librosa.stft(X_22050))\n",
    "    stft = np.abs(librosa.stft(X))\n",
    "    \n",
    "    mfccs = np.mean(librosa.feature.mfcc(y=X, sr=sample_rate, n_mfcc=n_mfcc, hop_length=hop_length, n_mels=n_mels).T,axis=0)\n",
    "    chroma = np.mean(librosa.feature.chroma_stft(S=stft, sr=sample_rate).T,axis=0)\n",
    "    mel = np.mean(librosa.feature.melspectrogram(X, sr=sample_rate).T,axis=0)\n",
    "    contrast = np.mean(librosa.feature.spectral_contrast(S=stft_22050, sr=sam_rate_22050).T,axis=0)\n",
    "    tonnetz = np.mean(librosa.feature.tonnetz(y=librosa.effects.harmonic(X_22050), sr=sam_rate_22050).T,axis=0)\n",
    "    return mfccs,chroma,mel,contrast,tonnetz"
   ]
  },
  {
   "cell_type": "code",
   "execution_count": 10,
   "metadata": {},
   "outputs": [
    {
     "name": "stdout",
     "output_type": "stream",
     "text": [
      "time to extract features from one file: 0.006sec\n"
     ]
    }
   ],
   "source": [
    "#a,b,c,d,e = extract_feature('UrbanSound8K_HF1030/audio/fold1/99180-9-0-0.wav')\n",
    "start_time = timer()\n",
    "a,b,c,d,e = extract_feature('UrbanSound8K_HF1030/audio/fold1/99180-9-0-0.wav')\n",
    "end_time = timer()\n",
    "print('time to extract features from one file: {:.3f}sec'.format((end_time-start_time)/60))"
   ]
  },
  {
   "cell_type": "code",
   "execution_count": 11,
   "metadata": {},
   "outputs": [
    {
     "name": "stdout",
     "output_type": "stream",
     "text": [
      "(40,) (12,) (128,) (7,) (6,)\n",
      "-100.7343373680647\n",
      "193\n"
     ]
    }
   ],
   "source": [
    "num_features = a.shape[0] +b.shape[0] +c.shape[0] +d.shape[0] +e.shape[0]\n",
    "print(a.shape,b.shape,c.shape,d.shape,e.shape)\n",
    "print(a[0])\n",
    "print(num_features)"
   ]
  },
  {
   "cell_type": "code",
   "execution_count": 14,
   "metadata": {},
   "outputs": [
    {
     "name": "stderr",
     "output_type": "stream",
     "text": [
      "/home/fjtsai/.local/lib/python3.5/site-packages/librosa/core/pitch.py:145: UserWarning: Trying to estimate tuning from empty frequency set.\n",
      "  warnings.warn('Trying to estimate tuning from empty frequency set.')\n"
     ]
    },
    {
     "name": "stdout",
     "output_type": "stream",
     "text": [
      "UrbanSound8K_HF1030/audio/fold1/.DS_Store\n"
     ]
    },
    {
     "name": "stderr",
     "output_type": "stream",
     "text": [
      "/home/fjtsai/.local/lib/python3.5/site-packages/librosa/core/pitch.py:145: UserWarning: Trying to estimate tuning from empty frequency set.\n",
      "  warnings.warn('Trying to estimate tuning from empty frequency set.')\n"
     ]
    },
    {
     "name": "stdout",
     "output_type": "stream",
     "text": [
      "UrbanSound8K_HF1030/audio/fold2/.DS_Store\n"
     ]
    },
    {
     "name": "stderr",
     "output_type": "stream",
     "text": [
      "/home/fjtsai/.local/lib/python3.5/site-packages/librosa/core/pitch.py:145: UserWarning: Trying to estimate tuning from empty frequency set.\n",
      "  warnings.warn('Trying to estimate tuning from empty frequency set.')\n"
     ]
    },
    {
     "name": "stdout",
     "output_type": "stream",
     "text": [
      "UrbanSound8K_HF1030/audio/fold3/.DS_Store\n"
     ]
    },
    {
     "name": "stderr",
     "output_type": "stream",
     "text": [
      "/home/fjtsai/.local/lib/python3.5/site-packages/librosa/core/pitch.py:145: UserWarning: Trying to estimate tuning from empty frequency set.\n",
      "  warnings.warn('Trying to estimate tuning from empty frequency set.')\n"
     ]
    },
    {
     "name": "stdout",
     "output_type": "stream",
     "text": [
      "UrbanSound8K_HF1030/audio/fold4/.DS_Store\n"
     ]
    },
    {
     "name": "stderr",
     "output_type": "stream",
     "text": [
      "/home/fjtsai/.local/lib/python3.5/site-packages/librosa/core/pitch.py:145: UserWarning: Trying to estimate tuning from empty frequency set.\n",
      "  warnings.warn('Trying to estimate tuning from empty frequency set.')\n"
     ]
    },
    {
     "name": "stdout",
     "output_type": "stream",
     "text": [
      "UrbanSound8K_HF1030/audio/fold5/.DS_Store\n"
     ]
    },
    {
     "name": "stderr",
     "output_type": "stream",
     "text": [
      "/home/fjtsai/.local/lib/python3.5/site-packages/librosa/core/pitch.py:145: UserWarning: Trying to estimate tuning from empty frequency set.\n",
      "  warnings.warn('Trying to estimate tuning from empty frequency set.')\n"
     ]
    },
    {
     "name": "stdout",
     "output_type": "stream",
     "text": [
      "UrbanSound8K_HF1030/audio/fold6/.DS_Store\n"
     ]
    },
    {
     "name": "stderr",
     "output_type": "stream",
     "text": [
      "/home/fjtsai/.local/lib/python3.5/site-packages/librosa/core/pitch.py:145: UserWarning: Trying to estimate tuning from empty frequency set.\n",
      "  warnings.warn('Trying to estimate tuning from empty frequency set.')\n"
     ]
    },
    {
     "name": "stdout",
     "output_type": "stream",
     "text": [
      "UrbanSound8K_HF1030/audio/fold7/.DS_Store\n"
     ]
    },
    {
     "name": "stderr",
     "output_type": "stream",
     "text": [
      "/home/fjtsai/.local/lib/python3.5/site-packages/librosa/core/pitch.py:145: UserWarning: Trying to estimate tuning from empty frequency set.\n",
      "  warnings.warn('Trying to estimate tuning from empty frequency set.')\n",
      "/home/fjtsai/.local/lib/python3.5/site-packages/librosa/filters.py:284: UserWarning: Empty filters detected in mel frequency basis. Some channels will produce empty responses. Try increasing your sampling rate (and fmax) or reducing n_mels.\n",
      "  warnings.warn('Empty filters detected in mel frequency basis. '\n"
     ]
    },
    {
     "name": "stdout",
     "output_type": "stream",
     "text": [
      "UrbanSound8K_HF1030/audio/fold8/.DS_Store\n"
     ]
    },
    {
     "name": "stderr",
     "output_type": "stream",
     "text": [
      "/home/fjtsai/.local/lib/python3.5/site-packages/librosa/filters.py:284: UserWarning: Empty filters detected in mel frequency basis. Some channels will produce empty responses. Try increasing your sampling rate (and fmax) or reducing n_mels.\n",
      "  warnings.warn('Empty filters detected in mel frequency basis. '\n"
     ]
    },
    {
     "name": "stdout",
     "output_type": "stream",
     "text": [
      "UrbanSound8K_HF1030/audio/fold9/.DS_Store\n",
      "UrbanSound8K_HF1030/audio/fold10/.DS_Store\n",
      "Exceptions:  10\n",
      "time taken: 72.0 minutes 37.1 seconds\n",
      "None\n"
     ]
    }
   ],
   "source": [
    "mfcc_data = []\n",
    "exception_count = 0\n",
    "\n",
    "start_time = timer()\n",
    "for i in range(10):\n",
    "    # get file names\n",
    "    mypath = 'UrbanSound8K_HF1030/audio/'+ fold_list[i] + '/'\n",
    "    files = [mypath + f for f in listdir(mypath) if isfile(join(mypath, f))]\n",
    "    \n",
    "    for fn in files:\n",
    "        try: # extract features\n",
    "            mfccs,chroma,mel,contrast,tonnetz = extract_feature(fn)\n",
    "            features = np.empty((0,num_features))\n",
    "            ext_features = np.hstack([mfccs,chroma,mel,contrast,tonnetz])\n",
    "            features = np.vstack([features,ext_features])\n",
    "            \n",
    "        except:\n",
    "            print(fn)\n",
    "            exception_count += 1\n",
    "            continue\n",
    "\n",
    "   #     l_row = raw_sound.loc[raw_sound['slice_file_name']==fn].values.tolist()\n",
    "        l_row = raw_sound.loc[raw_sound['slice_file_name']==fn.split('/')[-1]].values.tolist()\n",
    "        label = l_row[0][-1]\n",
    "        class_id = l_row[0][-2]\n",
    "        fold = i+1\n",
    "    \n",
    "        mfcc_data.append([features, features.shape, class_id, label, fold])\n",
    "        \n",
    "            #print(f,old_samplerate,ss)\n",
    "        \n",
    "print(\"Exceptions: \", exception_count)\n",
    "end_time = timer()\n",
    "print(print(\"time taken: {0} minutes {1:.1f} seconds\".format((end_time - start_time)//60, (end_time - start_time)%60)))"
   ]
  },
  {
   "cell_type": "code",
   "execution_count": 15,
   "metadata": {},
   "outputs": [],
   "source": [
    "pickle.dump(mfcc_data, open('MFCCforML_1031.p', 'wb'))"
   ]
  },
  {
   "cell_type": "code",
   "execution_count": null,
   "metadata": {},
   "outputs": [],
   "source": [
    "#mfcc_pd = pickle.load(open('feature_data1.p',\"rb\"))"
   ]
  },
  {
   "cell_type": "code",
   "execution_count": 16,
   "metadata": {},
   "outputs": [],
   "source": [
    "cols=[\"features\", \"shape\",\"label_id\", \"label\", \"fold\"]\n",
    "mfcc_data = pd.DataFrame(data = mfcc_data, columns=cols)"
   ]
  },
  {
   "cell_type": "code",
   "execution_count": 17,
   "metadata": {},
   "outputs": [
    {
     "data": {
      "text/html": [
       "<div>\n",
       "<style scoped>\n",
       "    .dataframe tbody tr th:only-of-type {\n",
       "        vertical-align: middle;\n",
       "    }\n",
       "\n",
       "    .dataframe tbody tr th {\n",
       "        vertical-align: top;\n",
       "    }\n",
       "\n",
       "    .dataframe thead th {\n",
       "        text-align: right;\n",
       "    }\n",
       "</style>\n",
       "<table border=\"1\" class=\"dataframe\">\n",
       "  <thead>\n",
       "    <tr style=\"text-align: right;\">\n",
       "      <th></th>\n",
       "      <th>features</th>\n",
       "      <th>shape</th>\n",
       "      <th>label_id</th>\n",
       "      <th>label</th>\n",
       "      <th>fold</th>\n",
       "    </tr>\n",
       "  </thead>\n",
       "  <tbody>\n",
       "    <tr>\n",
       "      <th>0</th>\n",
       "      <td>[[-105.06212476278826, 58.2669207690394, -4.19...</td>\n",
       "      <td>(1, 193)</td>\n",
       "      <td>5</td>\n",
       "      <td>engine_idling</td>\n",
       "      <td>1</td>\n",
       "    </tr>\n",
       "    <tr>\n",
       "      <th>1</th>\n",
       "      <td>[[-124.45740140108683, 127.51212095331138, -29...</td>\n",
       "      <td>(1, 193)</td>\n",
       "      <td>7</td>\n",
       "      <td>jackhammer</td>\n",
       "      <td>1</td>\n",
       "    </tr>\n",
       "    <tr>\n",
       "      <th>2</th>\n",
       "      <td>[[-219.55987652950563, 109.651516031176, -14.0...</td>\n",
       "      <td>(1, 193)</td>\n",
       "      <td>9</td>\n",
       "      <td>street_music</td>\n",
       "      <td>1</td>\n",
       "    </tr>\n",
       "    <tr>\n",
       "      <th>3</th>\n",
       "      <td>[[-132.4537100734293, 127.67266663126416, -28....</td>\n",
       "      <td>(1, 193)</td>\n",
       "      <td>7</td>\n",
       "      <td>jackhammer</td>\n",
       "      <td>1</td>\n",
       "    </tr>\n",
       "    <tr>\n",
       "      <th>4</th>\n",
       "      <td>[[-50.480787298730924, 94.33832870986032, -48....</td>\n",
       "      <td>(1, 193)</td>\n",
       "      <td>7</td>\n",
       "      <td>jackhammer</td>\n",
       "      <td>1</td>\n",
       "    </tr>\n",
       "  </tbody>\n",
       "</table>\n",
       "</div>"
      ],
      "text/plain": [
       "                                            features     shape  label_id  \\\n",
       "0  [[-105.06212476278826, 58.2669207690394, -4.19...  (1, 193)         5   \n",
       "1  [[-124.45740140108683, 127.51212095331138, -29...  (1, 193)         7   \n",
       "2  [[-219.55987652950563, 109.651516031176, -14.0...  (1, 193)         9   \n",
       "3  [[-132.4537100734293, 127.67266663126416, -28....  (1, 193)         7   \n",
       "4  [[-50.480787298730924, 94.33832870986032, -48....  (1, 193)         7   \n",
       "\n",
       "           label  fold  \n",
       "0  engine_idling     1  \n",
       "1     jackhammer     1  \n",
       "2   street_music     1  \n",
       "3     jackhammer     1  \n",
       "4     jackhammer     1  "
      ]
     },
     "execution_count": 17,
     "metadata": {},
     "output_type": "execute_result"
    }
   ],
   "source": [
    "mfcc_data.head()"
   ]
  },
  {
   "cell_type": "code",
   "execution_count": 18,
   "metadata": {
    "scrolled": true
   },
   "outputs": [
    {
     "name": "stdout",
     "output_type": "stream",
     "text": [
      "{'air_conditioner', 'car_horn', 'dog_bark', 'jackhammer', 'street_music', 'siren', 'gun_shot', 'engine_idling', 'children_playing', 'drilling'}\n"
     ]
    },
    {
     "data": {
      "text/plain": [
       "{'air_conditioner': 1000,\n",
       " 'car_horn': 424,\n",
       " 'children_playing': 1000,\n",
       " 'dog_bark': 1000,\n",
       " 'drilling': 1000,\n",
       " 'engine_idling': 1000,\n",
       " 'gun_shot': 374,\n",
       " 'jackhammer': 1000,\n",
       " 'siren': 929,\n",
       " 'street_music': 1000}"
      ]
     },
     "execution_count": 18,
     "metadata": {},
     "output_type": "execute_result"
    }
   ],
   "source": [
    "labels = set(mfcc_data['label'])\n",
    "print(labels)\n",
    "cnt = [[label,list(mfcc_data['label']).count(label)] for label in labels]\n",
    "dict_cnt = dict(cnt)\n",
    "dict_cnt"
   ]
  },
  {
   "cell_type": "code",
   "execution_count": 19,
   "metadata": {},
   "outputs": [],
   "source": [
    "cnt_cols=[\"classes\",\"occurence\"]\n",
    "count_pd = pd.DataFrame(data = cnt, columns=cnt_cols)"
   ]
  },
  {
   "cell_type": "code",
   "execution_count": 24,
   "metadata": {},
   "outputs": [
    {
     "data": {
      "image/png": "[encoded data removed]",
      "text/plain": [
       "<Figure size 1332x756 with 1 Axes>"
      ]
     },
     "metadata": {
      "needs_background": "light"
     },
     "output_type": "display_data"
    }
   ],
   "source": [
    "#dictionary = plt.figure()\n",
    "fig = plt.gcf()\n",
    "fig.set_size_inches(18.5, 10.5)\n",
    "fig.savefig('test2png.png', dpi=100)\n",
    "\n",
    "fig.set_size_inches(18.5, 10.5, forward=True)\n",
    "plt.bar(range(len(dict_cnt)), list(dict_cnt.values()), align='center')\n",
    "plt.xticks(range(len(dict_cnt)), dict_cnt.keys())\n",
    "plt.show()\n",
    "#plot_url = py.plot_mpl(dictionary, filename='mpl-dictionary')\n"
   ]
  },
  {
   "cell_type": "code",
   "execution_count": 25,
   "metadata": {},
   "outputs": [
    {
     "data": {
      "text/plain": [
       "{0: {'air_conditioner'},\n",
       " 1: {'car_horn'},\n",
       " 2: {'children_playing'},\n",
       " 3: {'dog_bark'},\n",
       " 4: {'drilling'},\n",
       " 5: {'engine_idling'},\n",
       " 6: {'gun_shot'},\n",
       " 7: {'jackhammer'},\n",
       " 8: {'siren'},\n",
       " 9: {'street_music'}}"
      ]
     },
     "execution_count": 25,
     "metadata": {},
     "output_type": "execute_result"
    }
   ],
   "source": [
    "labels = set(mfcc_data['label_id'])\n",
    "mapping = []\n",
    "for label_id in labels:\n",
    "    \n",
    "    label_name = set(mfcc_data.loc[mfcc_data['label_id'] == label_id]['label'])\n",
    "    mapping.append((label_id,label_name))\n",
    "label_mapping = dict(mapping)\n",
    "label_mapping"
   ]
  },
  {
   "cell_type": "code",
   "execution_count": 27,
   "metadata": {},
   "outputs": [
    {
     "data": {
      "text/html": [
       "<div>\n",
       "<style scoped>\n",
       "    .dataframe tbody tr th:only-of-type {\n",
       "        vertical-align: middle;\n",
       "    }\n",
       "\n",
       "    .dataframe tbody tr th {\n",
       "        vertical-align: top;\n",
       "    }\n",
       "\n",
       "    .dataframe thead th {\n",
       "        text-align: right;\n",
       "    }\n",
       "</style>\n",
       "<table border=\"1\" class=\"dataframe\">\n",
       "  <thead>\n",
       "    <tr style=\"text-align: right;\">\n",
       "      <th></th>\n",
       "      <th>shape</th>\n",
       "      <th>label_id</th>\n",
       "      <th>label</th>\n",
       "      <th>fold</th>\n",
       "      <th>sample</th>\n",
       "    </tr>\n",
       "  </thead>\n",
       "  <tbody>\n",
       "    <tr>\n",
       "      <th>0</th>\n",
       "      <td>(1, 193)</td>\n",
       "      <td>5</td>\n",
       "      <td>engine_idling</td>\n",
       "      <td>1</td>\n",
       "      <td>[-105.06212476278826, 58.2669207690394, -4.194...</td>\n",
       "    </tr>\n",
       "    <tr>\n",
       "      <th>1</th>\n",
       "      <td>(1, 193)</td>\n",
       "      <td>7</td>\n",
       "      <td>jackhammer</td>\n",
       "      <td>1</td>\n",
       "      <td>[-124.45740140108683, 127.51212095331138, -29....</td>\n",
       "    </tr>\n",
       "    <tr>\n",
       "      <th>2</th>\n",
       "      <td>(1, 193)</td>\n",
       "      <td>9</td>\n",
       "      <td>street_music</td>\n",
       "      <td>1</td>\n",
       "      <td>[-219.55987652950563, 109.651516031176, -14.03...</td>\n",
       "    </tr>\n",
       "    <tr>\n",
       "      <th>3</th>\n",
       "      <td>(1, 193)</td>\n",
       "      <td>7</td>\n",
       "      <td>jackhammer</td>\n",
       "      <td>1</td>\n",
       "      <td>[-132.4537100734293, 127.67266663126416, -28.6...</td>\n",
       "    </tr>\n",
       "    <tr>\n",
       "      <th>4</th>\n",
       "      <td>(1, 193)</td>\n",
       "      <td>7</td>\n",
       "      <td>jackhammer</td>\n",
       "      <td>1</td>\n",
       "      <td>[-50.480787298730924, 94.33832870986032, -48.5...</td>\n",
       "    </tr>\n",
       "  </tbody>\n",
       "</table>\n",
       "</div>"
      ],
      "text/plain": [
       "      shape  label_id          label  fold  \\\n",
       "0  (1, 193)         5  engine_idling     1   \n",
       "1  (1, 193)         7     jackhammer     1   \n",
       "2  (1, 193)         9   street_music     1   \n",
       "3  (1, 193)         7     jackhammer     1   \n",
       "4  (1, 193)         7     jackhammer     1   \n",
       "\n",
       "                                              sample  \n",
       "0  [-105.06212476278826, 58.2669207690394, -4.194...  \n",
       "1  [-124.45740140108683, 127.51212095331138, -29....  \n",
       "2  [-219.55987652950563, 109.651516031176, -14.03...  \n",
       "3  [-132.4537100734293, 127.67266663126416, -28.6...  \n",
       "4  [-50.480787298730924, 94.33832870986032, -48.5...  "
      ]
     },
     "execution_count": 27,
     "metadata": {},
     "output_type": "execute_result"
    }
   ],
   "source": [
    "ll = [mfcc_data['features'][i].ravel() for i in range(mfcc_data.shape[0])]\n",
    "mfcc_data['sample'] = pd.Series(ll, index=mfcc_data.index)\n",
    "del mfcc_data['features']\n",
    "mfcc_data.head()"
   ]
  },
  {
   "cell_type": "code",
   "execution_count": null,
   "metadata": {},
   "outputs": [],
   "source": [
    "#http://www.practicalcryptography.com/miscellaneous/machine-learning/guide-mel-frequency-cepstral-coefficients-mfccs/\n",
    "#http://haythamfayek.com/2016/04/21/speech-processing-for-machine-learning.html"
   ]
  },
  {
   "cell_type": "markdown",
   "metadata": {},
   "source": [
    "## Random Forest Classifier"
   ]
  },
  {
   "cell_type": "code",
   "execution_count": 28,
   "metadata": {},
   "outputs": [],
   "source": [
    "# Random Forest classifier. Use fold10 as test set. Use fold1-9 for 9-fold cross validation\n",
    "forest = OneVsRestClassifier(RandomForestClassifier(n_estimators = 500, max_depth=20, min_samples_leaf=30))"
   ]
  },
  {
   "cell_type": "code",
   "execution_count": 29,
   "metadata": {},
   "outputs": [],
   "source": [
    "train_data = np.array(list(mfcc_data.loc[mfcc_data['fold'] < 9]['sample']))\n",
    "train_label = np.array(mfcc_data.loc[mfcc_data['fold'] < 9]['label_id'])\n",
    "validation_data = np.array(list(mfcc_data.loc[mfcc_data['fold'] == 9]['sample']))\n",
    "validation_label = np.array(mfcc_data.loc[mfcc_data['fold'] == 9]['label_id'])\n",
    "#test_data = np.array(list(mfcc_data.loc[mfcc_data['fold'] == 10]['sample']))\n",
    "#test_label = np.array(mfcc_data.loc[mfcc_data['fold'] == 10]['label_id'])"
   ]
  },
  {
   "cell_type": "code",
   "execution_count": 30,
   "metadata": {},
   "outputs": [
    {
     "name": "stdout",
     "output_type": "stream",
     "text": [
      "(7074, 193)\n",
      "<class 'numpy.ndarray'>\n"
     ]
    }
   ],
   "source": [
    "print(train_data.shape)\n",
    "print(type(train_data))"
   ]
  },
  {
   "cell_type": "code",
   "execution_count": 31,
   "metadata": {},
   "outputs": [
    {
     "data": {
      "text/plain": [
       "0.8910186665384765"
      ]
     },
     "execution_count": 31,
     "metadata": {},
     "output_type": "execute_result"
    }
   ],
   "source": [
    "np.mean(train_data[0])"
   ]
  },
  {
   "cell_type": "code",
   "execution_count": 32,
   "metadata": {},
   "outputs": [],
   "source": [
    "forestmodel = forest.fit(train_data, train_label)"
   ]
  },
  {
   "cell_type": "code",
   "execution_count": 33,
   "metadata": {},
   "outputs": [],
   "source": [
    "prediction = forestmodel.predict(validation_data)"
   ]
  },
  {
   "cell_type": "code",
   "execution_count": 34,
   "metadata": {},
   "outputs": [],
   "source": [
    "prob_pred = forestmodel.predict_proba(validation_data)"
   ]
  },
  {
   "cell_type": "code",
   "execution_count": 35,
   "metadata": {},
   "outputs": [
    {
     "data": {
      "text/plain": [
       "array([0.07899789, 0.00525792, 0.4091391 , 0.17137861, 0.03946094,\n",
       "       0.02419535, 0.02545686, 0.0216304 , 0.04156364, 0.18291929])"
      ]
     },
     "execution_count": 35,
     "metadata": {},
     "output_type": "execute_result"
    }
   ],
   "source": [
    "prob_pred[0]"
   ]
  },
  {
   "cell_type": "code",
   "execution_count": 38,
   "metadata": {},
   "outputs": [
    {
     "data": {
      "text/plain": [
       "0.6115196078431373"
      ]
     },
     "execution_count": 38,
     "metadata": {},
     "output_type": "execute_result"
    }
   ],
   "source": [
    "forest_accuracy = np.sum(prediction == validation_label)/validation_label.shape[0]\n",
    "#svc_accuracy = np.sum(svc_prediction == validation_label)/validation_label.shape[0]\n",
    "forest_accuracy"
   ]
  },
  {
   "cell_type": "code",
   "execution_count": 39,
   "metadata": {},
   "outputs": [],
   "source": [
    "def confusion(true, predicted):\n",
    "    matrix = np.zeros([10,10])\n",
    "    #d = 0\n",
    "    for t, p in zip(true, predicted):\n",
    "        matrix[t,p] += 1.5\n",
    "    #    d += 1\n",
    "    #print(d)\n",
    "    return matrix"
   ]
  },
  {
   "cell_type": "code",
   "execution_count": 40,
   "metadata": {},
   "outputs": [
    {
     "data": {
      "image/png": "[encoded data removed]",
      "text/plain": [
       "<Figure size 720x720 with 2 Axes>"
      ]
     },
     "metadata": {
      "needs_background": "light"
     },
     "output_type": "display_data"
    }
   ],
   "source": [
    "classe_names = label_mapping.values()\n",
    "matrix = confusion(validation_label, prediction)\n",
    "\n",
    "plt.figure(figsize=[10,10])\n",
    "plt.imshow(matrix, cmap='hot', interpolation='nearest',  vmin=0, vmax=200)\n",
    "plt.colorbar()\n",
    "plt.title('Random Forest Confusion Map', fontsize=18)\n",
    "plt.ylabel('Actual', fontsize=18)\n",
    "plt.xlabel('Predicted', fontsize=18)\n",
    "plt.grid(b=False)\n",
    "plt.yticks(range(10), classe_names, fontsize=14)\n",
    "plt.xticks(range(10), classe_names, fontsize=14, rotation='vertical')\n",
    "plt.show()"
   ]
  },
  {
   "cell_type": "markdown",
   "metadata": {},
   "source": [
    "## Support Vector Machien Classifier"
   ]
  },
  {
   "cell_type": "code",
   "execution_count": 41,
   "metadata": {},
   "outputs": [],
   "source": [
    "from sklearn.svm import NuSVC\n",
    "from sklearn.svm import SVC"
   ]
  },
  {
   "cell_type": "code",
   "execution_count": 42,
   "metadata": {},
   "outputs": [
    {
     "name": "stderr",
     "output_type": "stream",
     "text": [
      "/home/fjtsai/.local/lib/python3.5/site-packages/sklearn/svm/base.py:196: FutureWarning: The default value of gamma will change from 'auto' to 'scale' in version 0.22 to account better for unscaled features. Set gamma explicitly to 'auto' or 'scale' to avoid this warning.\n",
      "  \"avoid this warning.\", FutureWarning)\n",
      "/home/fjtsai/.local/lib/python3.5/site-packages/sklearn/svm/base.py:196: FutureWarning: The default value of gamma will change from 'auto' to 'scale' in version 0.22 to account better for unscaled features. Set gamma explicitly to 'auto' or 'scale' to avoid this warning.\n",
      "  \"avoid this warning.\", FutureWarning)\n",
      "/home/fjtsai/.local/lib/python3.5/site-packages/sklearn/svm/base.py:196: FutureWarning: The default value of gamma will change from 'auto' to 'scale' in version 0.22 to account better for unscaled features. Set gamma explicitly to 'auto' or 'scale' to avoid this warning.\n",
      "  \"avoid this warning.\", FutureWarning)\n",
      "/home/fjtsai/.local/lib/python3.5/site-packages/sklearn/svm/base.py:196: FutureWarning: The default value of gamma will change from 'auto' to 'scale' in version 0.22 to account better for unscaled features. Set gamma explicitly to 'auto' or 'scale' to avoid this warning.\n",
      "  \"avoid this warning.\", FutureWarning)\n",
      "/home/fjtsai/.local/lib/python3.5/site-packages/sklearn/svm/base.py:196: FutureWarning: The default value of gamma will change from 'auto' to 'scale' in version 0.22 to account better for unscaled features. Set gamma explicitly to 'auto' or 'scale' to avoid this warning.\n",
      "  \"avoid this warning.\", FutureWarning)\n",
      "/home/fjtsai/.local/lib/python3.5/site-packages/sklearn/svm/base.py:196: FutureWarning: The default value of gamma will change from 'auto' to 'scale' in version 0.22 to account better for unscaled features. Set gamma explicitly to 'auto' or 'scale' to avoid this warning.\n",
      "  \"avoid this warning.\", FutureWarning)\n",
      "/home/fjtsai/.local/lib/python3.5/site-packages/sklearn/svm/base.py:196: FutureWarning: The default value of gamma will change from 'auto' to 'scale' in version 0.22 to account better for unscaled features. Set gamma explicitly to 'auto' or 'scale' to avoid this warning.\n",
      "  \"avoid this warning.\", FutureWarning)\n",
      "/home/fjtsai/.local/lib/python3.5/site-packages/sklearn/svm/base.py:196: FutureWarning: The default value of gamma will change from 'auto' to 'scale' in version 0.22 to account better for unscaled features. Set gamma explicitly to 'auto' or 'scale' to avoid this warning.\n",
      "  \"avoid this warning.\", FutureWarning)\n",
      "/home/fjtsai/.local/lib/python3.5/site-packages/sklearn/svm/base.py:196: FutureWarning: The default value of gamma will change from 'auto' to 'scale' in version 0.22 to account better for unscaled features. Set gamma explicitly to 'auto' or 'scale' to avoid this warning.\n",
      "  \"avoid this warning.\", FutureWarning)\n",
      "/home/fjtsai/.local/lib/python3.5/site-packages/sklearn/svm/base.py:196: FutureWarning: The default value of gamma will change from 'auto' to 'scale' in version 0.22 to account better for unscaled features. Set gamma explicitly to 'auto' or 'scale' to avoid this warning.\n",
      "  \"avoid this warning.\", FutureWarning)\n"
     ]
    }
   ],
   "source": [
    "svm = OneVsRestClassifier(NuSVC(nu=.08, kernel='poly', decision_function_shape='ovr'))\n",
    "svmmodel = svm.fit(train_data, train_label)"
   ]
  },
  {
   "cell_type": "code",
   "execution_count": 43,
   "metadata": {},
   "outputs": [],
   "source": [
    "svc_prediction = svmmodel.predict(validation_data)"
   ]
  },
  {
   "cell_type": "code",
   "execution_count": 44,
   "metadata": {},
   "outputs": [
    {
     "data": {
      "text/plain": [
       "0.5968137254901961"
      ]
     },
     "execution_count": 44,
     "metadata": {},
     "output_type": "execute_result"
    }
   ],
   "source": [
    "svc_accuracy = np.sum(svc_prediction == validation_label)/validation_label.shape[0]\n",
    "svc_accuracy"
   ]
  },
  {
   "cell_type": "code",
   "execution_count": 45,
   "metadata": {},
   "outputs": [
    {
     "data": {
      "image/png": "[encoded data removed]",
      "text/plain": [
       "<Figure size 720x720 with 2 Axes>"
      ]
     },
     "metadata": {
      "needs_background": "light"
     },
     "output_type": "display_data"
    }
   ],
   "source": [
    "classe_names = label_mapping.values()\n",
    "matrix = confusion(validation_label, svc_prediction)\n",
    "\n",
    "plt.figure(figsize=[10,10])\n",
    "plt.imshow(matrix, cmap='hot', interpolation='nearest',  vmin=0, vmax=200)\n",
    "plt.colorbar()\n",
    "plt.title('SVM Confusion Map', fontsize=18)\n",
    "plt.ylabel('Actual', fontsize=18)\n",
    "plt.xlabel('Predicted', fontsize=18)\n",
    "plt.grid(b=False)\n",
    "plt.yticks(range(10), classe_names, fontsize=14)\n",
    "plt.xticks(range(10), classe_names, fontsize=14, rotation='vertical')\n",
    "plt.show()"
   ]
  },
  {
   "cell_type": "markdown",
   "metadata": {},
   "source": [
    "## Naive Bayes Classifier"
   ]
  },
  {
   "cell_type": "code",
   "execution_count": 46,
   "metadata": {},
   "outputs": [],
   "source": [
    "NB = OneVsRestClassifier(GaussianNB())\n",
    "nbmodel = NB.fit(train_data, train_label)"
   ]
  },
  {
   "cell_type": "code",
   "execution_count": 47,
   "metadata": {},
   "outputs": [],
   "source": [
    "NB_prediction = nbmodel.predict(validation_data)"
   ]
  },
  {
   "cell_type": "code",
   "execution_count": 48,
   "metadata": {
    "scrolled": true
   },
   "outputs": [
    {
     "data": {
      "image/png": "[encoded data removed]",
      "text/plain": [
       "<Figure size 720x720 with 2 Axes>"
      ]
     },
     "metadata": {
      "needs_background": "light"
     },
     "output_type": "display_data"
    }
   ],
   "source": [
    "classe_names = label_mapping.values()\n",
    "matrix = confusion(validation_label, NB_prediction)\n",
    "\n",
    "plt.figure(figsize=[10,10])\n",
    "plt.imshow(matrix, cmap='hot', interpolation='nearest',  vmin=0, vmax=200)\n",
    "plt.colorbar()\n",
    "plt.title('Naive Bayese Confusion Map', fontsize=18)\n",
    "plt.ylabel('Actual', fontsize=18)\n",
    "plt.xlabel('Predicted', fontsize=18)\n",
    "plt.grid(b=False)\n",
    "plt.yticks(range(10), classe_names, fontsize=14)\n",
    "plt.xticks(range(10), classe_names, fontsize=14, rotation='vertical')\n",
    "plt.show()"
   ]
  },
  {
   "cell_type": "code",
   "execution_count": 49,
   "metadata": {},
   "outputs": [
    {
     "data": {
      "text/plain": [
       "0.18627450980392157"
      ]
     },
     "execution_count": 49,
     "metadata": {},
     "output_type": "execute_result"
    }
   ],
   "source": [
    "nb_accuracy = np.sum(NB_prediction == validation_label)/validation_label.shape[0]\n",
    "nb_accuracy"
   ]
  },
  {
   "cell_type": "markdown",
   "metadata": {},
   "source": [
    "## Visualization"
   ]
  },
  {
   "cell_type": "code",
   "execution_count": null,
   "metadata": {},
   "outputs": [],
   "source": [
    "#Code for Visualization borrowed from : https://aqibsaeed.github.io/2016-09-03-urban-sound-classification-part-1/\n",
    "\n",
    "\n",
    "from matplotlib.pyplot import specgram\n",
    "def load_sound_files(file_paths):\n",
    "    raw_sounds = []\n",
    "    for fp in file_paths:\n",
    "        X,sr = librosa.load(fp)\n",
    "        raw_sounds.append(X)\n",
    "    return raw_sounds\n",
    "\n",
    "def plot_waves(sound_names,raw_sounds):\n",
    "    i = 1\n",
    "    fig = plt.figure(figsize=(25,60), dpi = 900)\n",
    "    for n,f in zip(sound_names,raw_sounds):\n",
    "        plt.subplot(10,1,i)\n",
    "        librosa.display.waveplot(np.array(f),sr=22050)\n",
    "        plt.title(n.title())\n",
    "        i += 1\n",
    "    plt.suptitle('Figure 1: Waveplot',x=0.5, y=0.915,fontsize=18)\n",
    "    plt.show()\n",
    "    \n",
    "def plot_specgram(sound_names,raw_sounds):\n",
    "    i = 1\n",
    "    fig = plt.figure(figsize=(25,60), dpi = 900)\n",
    "    for n,f in zip(sound_names,raw_sounds):\n",
    "        plt.subplot(10,1,i)\n",
    "        specgram(np.array(f), Fs=22050)\n",
    "        plt.title(n.title())\n",
    "        i += 1\n",
    "    plt.suptitle('Figure 2: Spectrogram',x=0.5, y=0.915,fontsize=18)\n",
    "    plt.show()\n",
    "\n",
    "def plot_log_power_specgram(sound_names,raw_sounds):\n",
    "    i = 1\n",
    "    fig = plt.figure(figsize=(25,60), dpi = 900)\n",
    "    for n,f in zip(sound_names,raw_sounds):\n",
    "        plt.subplot(10,1,i)\n",
    "        D = librosa.logamplitude(np.abs(librosa.stft(f))**2, ref_power=np.max)\n",
    "        librosa.display.specshow(D,x_axis='time' ,y_axis='log')\n",
    "        plt.title(n.title())\n",
    "        i += 1\n",
    "    plt.suptitle('Figure 3: Log power spectrogram',x=0.5, y=0.915,fontsize=18)\n",
    "    plt.show()\n",
    "\n",
    "#mypath = 'UrbanSound8K/audio/'    \n",
    "    \n",
    "sound_file_paths = [\"UrbanSound8K_HF1030/audio/fold1/57320-0-0-7.wav\",\"UrbanSound8K_HF1030/audio/fold1/24074-1-0-3.wav\",\\\n",
    "                    \"UrbanSound8K_HF1030/audio/fold1/15564-2-0-1.wav\",\"UrbanSound8K_HF1030/audio/fold1/31323-3-0-1.wav\",\\\n",
    "                    \"UrbanSound8K_HF1030/audio/fold1/46669-4-0-35.wav\",\"UrbanSound8K_HF1030/audio/fold1/89948-5-0-0.wav\",\\\n",
    "                    \"UrbanSound8K_HF1030/audio/fold1/40722-8-0-4.wav\",\"UrbanSound8K_HF1030/audio/fold1/103074-7-3-2.wav\",\n",
    "                    \"UrbanSound8K_HF1030/audio/fold1/106905-8-0-0.wav\",\"UrbanSound8K_HF1030/audio/fold1/108041-9-0-4.wav\"]\n",
    "\n",
    "\n",
    "sound_names = [\"air conditioner\",\"car horn\",\"children playing\",\"dog bark\",\"drilling\",\"engine idling\",\n",
    "               \"gun shot\",\"jackhammer\",\"siren\",\"street music\"]\n",
    "\n",
    "raw_sounds = load_sound_files(sound_file_paths)\n",
    "\n",
    "plot_waves(sound_names,raw_sounds)\n",
    "plot_specgram(sound_names,raw_sounds)\n",
    "plot_log_power_specgram(sound_names,raw_sounds)"
   ]
  },
  {
   "cell_type": "code",
   "execution_count": null,
   "metadata": {},
   "outputs": [],
   "source": []
  }
 ],
 "metadata": {
  "anaconda-cloud": {},
  "kernelspec": {
   "display_name": "Python 3",
   "language": "python",
   "name": "python3"
  },
  "language_info": {
   "codemirror_mode": {
    "name": "ipython",
    "version": 3
   },
   "file_extension": ".py",
   "mimetype": "text/x-python",
   "name": "python",
   "nbconvert_exporter": "python",
   "pygments_lexer": "ipython3",
   "version": "3.6.5"
  }
 },
 "nbformat": 4,
 "nbformat_minor": 1
}
