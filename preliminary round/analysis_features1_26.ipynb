{
 "cells": [
  {
   "cell_type": "code",
   "execution_count": 0,
   "metadata": {
    "colab": {
     "base_uri": "https://localhost:8080/",
     "height": 76
    },
    "colab_type": "code",
    "executionInfo": {
     "elapsed": 1877,
     "status": "ok",
     "timestamp": 1569564524075,
     "user": {
      "displayName": "吳昱陞",
      "photoUrl": "https://lh3.googleusercontent.com/a-/AAuE7mDwbSNSYwDqvQx__AA0atitaVdkPHdvpVTMvyYq=s64",
      "userId": "05244345485167052723"
     },
     "user_tz": -480
    },
    "id": "JPv4C2-qE1sB",
    "outputId": "9c1772eb-3e0c-4984-ec25-15d73a2741d7"
   },
   "outputs": [
    {
     "name": "stdout",
     "output_type": "stream",
     "text": [
      "Drive already mounted at /content/drive; to attempt to forcibly remount, call drive.mount(\"/content/drive\", force_remount=True).\n"
     ]
    }
   ],
   "source": [
    "from google.colab import drive\n",
    "drive.mount('/content/drive')\n",
    "import pandas as pd\n",
    "import numpy as np\n",
    "import matplotlib.pyplot as plt\n",
    "%matplotlib inline\n",
    "import seaborn as sns\n",
    "from matplotlib.font_manager import FontProperties\n",
    "sns.set(font=['sans-serif'])\n",
    "sns.set_style(\"whitegrid\", {\"font.sans-serif\":['Microsoft JhengHei']})"
   ]
  },
  {
   "cell_type": "code",
   "execution_count": 0,
   "metadata": {
    "colab": {
     "base_uri": "https://localhost:8080/",
     "height": 112
    },
    "colab_type": "code",
    "executionInfo": {
     "elapsed": 4847,
     "status": "ok",
     "timestamp": 1569564527069,
     "user": {
      "displayName": "吳昱陞",
      "photoUrl": "https://lh3.googleusercontent.com/a-/AAuE7mDwbSNSYwDqvQx__AA0atitaVdkPHdvpVTMvyYq=s64",
      "userId": "05244345485167052723"
     },
     "user_tz": -480
    },
    "id": "uwYhYcCCE1sF",
    "outputId": "27dc19e2-e787-402b-8303-8788954f4941"
   },
   "outputs": [
    {
     "name": "stderr",
     "output_type": "stream",
     "text": [
      "/usr/local/lib/python3.6/dist-packages/IPython/core/interactiveshell.py:2718: DtypeWarning: Columns (17,21,22) have mixed types. Specify dtype option on import or set low_memory=False.\n",
      "  interactivity=interactivity, compiler=compiler, result=result)\n"
     ]
    }
   ],
   "source": [
    "df = pd.read_csv(r\"drive/My Drive/Colab Notebooks/train.csv\", encoding=\"big5\")\n",
    "\n",
    "df['Y1'] = df['Y1'].map({'Y':1, 'N':0})"
   ]
  },
  {
   "cell_type": "code",
   "execution_count": 0,
   "metadata": {
    "colab": {
     "base_uri": "https://localhost:8080/",
     "height": 512
    },
    "colab_type": "code",
    "executionInfo": {
     "elapsed": 4830,
     "status": "ok",
     "timestamp": 1569564527070,
     "user": {
      "displayName": "吳昱陞",
      "photoUrl": "https://lh3.googleusercontent.com/a-/AAuE7mDwbSNSYwDqvQx__AA0atitaVdkPHdvpVTMvyYq=s64",
      "userId": "05244345485167052723"
     },
     "user_tz": -480
    },
    "id": "ikxuRHUiE1sI",
    "outputId": "d2eddb1d-ca73-4fd8-fb76-65bca8727f41"
   },
   "outputs": [
    {
     "data": {
      "text/plain": [
       "CUS_ID                 0.00000\n",
       "GENDER                 0.00683\n",
       "AGE                    0.00000\n",
       "CHARGE_CITY_CD         0.00000\n",
       "CONTACT_CITY_CD        0.00000\n",
       "EDUCATION_CD           0.20562\n",
       "MARRIAGE_CD            0.07951\n",
       "LAST_A_CCONTACT_DT     0.00000\n",
       "L1YR_A_ISSUE_CNT       0.00000\n",
       "LAST_A_ISSUE_DT        0.00000\n",
       "L1YR_B_ISSUE_CNT       0.00000\n",
       "LAST_B_ISSUE_DT        0.00000\n",
       "CHANNEL_A_POL_CNT      0.00000\n",
       "CHANNEL_B_POL_CNT      0.00000\n",
       "OCCUPATION_CLASS_CD    0.03960\n",
       "APC_CNT                0.00000\n",
       "INSD_CNT               0.00000\n",
       "APC_1ST_AGE            0.43282\n",
       "INSD_1ST_AGE           0.00171\n",
       "IF_2ND_GEN_IND         0.00000\n",
       "APC_1ST_YEARDIF        0.43282\n",
       "RFM_R                  0.43294\n",
       "REBUY_TIMES_CNT        0.43282\n",
       "LEVEL                  0.43305\n",
       "RFM_M_LEVEL            0.43282\n",
       "LIFE_CNT               0.00000\n",
       "dtype: float64"
      ]
     },
     "execution_count": 5,
     "metadata": {
      "tags": []
     },
     "output_type": "execute_result"
    }
   ],
   "source": [
    "#N/A rate\n",
    "df.iloc[:, :26].isna().sum() / len(df)"
   ]
  },
  {
   "cell_type": "code",
   "execution_count": 0,
   "metadata": {
    "colab": {
     "base_uri": "https://localhost:8080/",
     "height": 90
    },
    "colab_type": "code",
    "executionInfo": {
     "elapsed": 4817,
     "status": "ok",
     "timestamp": 1569564527071,
     "user": {
      "displayName": "吳昱陞",
      "photoUrl": "https://lh3.googleusercontent.com/a-/AAuE7mDwbSNSYwDqvQx__AA0atitaVdkPHdvpVTMvyYq=s64",
      "userId": "05244345485167052723"
     },
     "user_tz": -480
    },
    "id": "Wq0q90euE1sK",
    "outputId": "1d65978d-96ae-4577-d0b9-ff7d8ea109b9"
   },
   "outputs": [
    {
     "data": {
      "text/plain": [
       "0    98000\n",
       "1     2000\n",
       "Name: Y1, dtype: int64"
      ]
     },
     "execution_count": 6,
     "metadata": {
      "tags": []
     },
     "output_type": "execute_result"
    }
   ],
   "source": [
    "df['Y1'].value_counts()"
   ]
  },
  {
   "cell_type": "code",
   "execution_count": 0,
   "metadata": {
    "colab": {
     "base_uri": "https://localhost:8080/",
     "height": 491
    },
    "colab_type": "code",
    "executionInfo": {
     "elapsed": 5675,
     "status": "ok",
     "timestamp": 1569564527943,
     "user": {
      "displayName": "吳昱陞",
      "photoUrl": "https://lh3.googleusercontent.com/a-/AAuE7mDwbSNSYwDqvQx__AA0atitaVdkPHdvpVTMvyYq=s64",
      "userId": "05244345485167052723"
     },
     "user_tz": -480
    },
    "id": "xRB10k6OE1sM",
    "outputId": "0c533830-3ae0-4dda-9e58-c0155244fad4"
   },
   "outputs": [
    {
     "name": "stdout",
     "output_type": "stream",
     "text": [
      "F    52944\n",
      "M    46373\n",
      "Name: GENDER, dtype: int64\n"
     ]
    },
    {
     "name": "stderr",
     "output_type": "stream",
     "text": [
      "/usr/local/lib/python3.6/dist-packages/matplotlib/font_manager.py:1241: UserWarning: findfont: Font family ['sans-serif'] not found. Falling back to DejaVu Sans.\n",
      "  (prop.get_family(), self.defaultFamily[fontext]))\n"
     ]
    },
    {
     "data": {
      "text/plain": [
       "<seaborn.axisgrid.FacetGrid at 0x7f3b6e80b780>"
      ]
     },
     "execution_count": 7,
     "metadata": {
      "tags": []
     },
     "output_type": "execute_result"
    },
    {
     "data": {
      "image/png": "[encoded data removed]",
      "text/plain": [
       "<Figure size 360x360 with 1 Axes>"
      ]
     },
     "metadata": {
      "tags": []
     },
     "output_type": "display_data"
    }
   ],
   "source": [
    "print(df['GENDER'].value_counts())\n",
    "sns.catplot(x=\"GENDER\", y=\"Y1\", kind=\"bar\", data=df, ci=None)"
   ]
  },
  {
   "cell_type": "code",
   "execution_count": 0,
   "metadata": {
    "colab": {
     "base_uri": "https://localhost:8080/",
     "height": 491
    },
    "colab_type": "code",
    "executionInfo": {
     "elapsed": 6730,
     "status": "ok",
     "timestamp": 1569564529010,
     "user": {
      "displayName": "吳昱陞",
      "photoUrl": "https://lh3.googleusercontent.com/a-/AAuE7mDwbSNSYwDqvQx__AA0atitaVdkPHdvpVTMvyYq=s64",
      "userId": "05244345485167052723"
     },
     "user_tz": -480
    },
    "id": "DoDvDfO0E1sO",
    "outputId": "ddd562ea-f014-4670-e522-66a609944e40"
   },
   "outputs": [
    {
     "name": "stdout",
     "output_type": "stream",
     "text": [
      "低     27213\n",
      "中     27148\n",
      "高     23902\n",
      "中高    21737\n",
      "Name: AGE, dtype: int64\n"
     ]
    },
    {
     "data": {
      "text/plain": [
       "<seaborn.axisgrid.FacetGrid at 0x7f3b6ed07a58>"
      ]
     },
     "execution_count": 8,
     "metadata": {
      "tags": []
     },
     "output_type": "execute_result"
    },
    {
     "data": {
      "image/png": "[encoded data removed]",
      "text/plain": [
       "<Figure size 360x360 with 1 Axes>"
      ]
     },
     "metadata": {
      "tags": []
     },
     "output_type": "display_data"
    }
   ],
   "source": [
    "print(df['AGE'].value_counts())\n",
    "sns.catplot(x=\"AGE\", y=\"Y1\", kind=\"bar\", data=df, ci=None)#低 中高 中 高"
   ]
  },
  {
   "cell_type": "code",
   "execution_count": 0,
   "metadata": {
    "colab": {
     "base_uri": "https://localhost:8080/",
     "height": 561
    },
    "colab_type": "code",
    "executionInfo": {
     "elapsed": 7435,
     "status": "ok",
     "timestamp": 1569564529728,
     "user": {
      "displayName": "吳昱陞",
      "photoUrl": "https://lh3.googleusercontent.com/a-/AAuE7mDwbSNSYwDqvQx__AA0atitaVdkPHdvpVTMvyYq=s64",
      "userId": "05244345485167052723"
     },
     "user_tz": -480
    },
    "id": "3EqSGu1XE1sR",
    "outputId": "1ec5582e-ee3a-47aa-9b9d-d04bbdbe031d",
    "scrolled": false
   },
   "outputs": [
    {
     "name": "stdout",
     "output_type": "stream",
     "text": [
      "B1    51618\n",
      "A1    16513\n",
      "C2     8601\n",
      "A2     8431\n",
      "B2     7574\n",
      "C1     4820\n",
      "D      2209\n",
      "E       234\n",
      "Name: CHARGE_CITY_CD, dtype: int64\n"
     ]
    },
    {
     "data": {
      "text/plain": [
       "<seaborn.axisgrid.FacetGrid at 0x7f3b664c5e48>"
      ]
     },
     "execution_count": 9,
     "metadata": {
      "tags": []
     },
     "output_type": "execute_result"
    },
    {
     "data": {
      "image/png": "[encoded data removed]",
      "text/plain": [
       "<Figure size 360x360 with 1 Axes>"
      ]
     },
     "metadata": {
      "tags": []
     },
     "output_type": "display_data"
    }
   ],
   "source": [
    "print(df['CHARGE_CITY_CD'].value_counts())\n",
    "sns.catplot(x=\"CHARGE_CITY_CD\", y=\"Y1\", kind=\"bar\", data=df, ci=None)"
   ]
  },
  {
   "cell_type": "code",
   "execution_count": 0,
   "metadata": {
    "colab": {
     "base_uri": "https://localhost:8080/",
     "height": 561
    },
    "colab_type": "code",
    "executionInfo": {
     "elapsed": 8133,
     "status": "ok",
     "timestamp": 1569564530441,
     "user": {
      "displayName": "吳昱陞",
      "photoUrl": "https://lh3.googleusercontent.com/a-/AAuE7mDwbSNSYwDqvQx__AA0atitaVdkPHdvpVTMvyYq=s64",
      "userId": "05244345485167052723"
     },
     "user_tz": -480
    },
    "id": "b1TLLJ-ZE1sT",
    "outputId": "64804736-a65e-428b-e761-ba108adfb33c",
    "scrolled": false
   },
   "outputs": [
    {
     "name": "stdout",
     "output_type": "stream",
     "text": [
      "A1    27066\n",
      "B1    18680\n",
      "A2    14489\n",
      "C2    14454\n",
      "B2    13027\n",
      "C1     7961\n",
      "D      3852\n",
      "E       471\n",
      "Name: CONTACT_CITY_CD, dtype: int64\n"
     ]
    },
    {
     "data": {
      "text/plain": [
       "<seaborn.axisgrid.FacetGrid at 0x7f3b6aa24358>"
      ]
     },
     "execution_count": 10,
     "metadata": {
      "tags": []
     },
     "output_type": "execute_result"
    },
    {
     "data": {
      "image/png": "[encoded data removed]",
      "text/plain": [
       "<Figure size 360x360 with 1 Axes>"
      ]
     },
     "metadata": {
      "tags": []
     },
     "output_type": "display_data"
    }
   ],
   "source": [
    "print(df['CONTACT_CITY_CD'].value_counts())\n",
    "sns.catplot(x=\"CONTACT_CITY_CD\", y=\"Y1\", kind=\"bar\", data=df, ci=None)"
   ]
  },
  {
   "cell_type": "markdown",
   "metadata": {
    "colab_type": "text",
    "id": "a-tNO54DrJED"
   },
   "source": []
  },
  {
   "cell_type": "code",
   "execution_count": 0,
   "metadata": {
    "colab": {
     "base_uri": "https://localhost:8080/",
     "height": 491
    },
    "colab_type": "code",
    "executionInfo": {
     "elapsed": 8826,
     "status": "ok",
     "timestamp": 1569564531148,
     "user": {
      "displayName": "吳昱陞",
      "photoUrl": "https://lh3.googleusercontent.com/a-/AAuE7mDwbSNSYwDqvQx__AA0atitaVdkPHdvpVTMvyYq=s64",
      "userId": "05244345485167052723"
     },
     "user_tz": -480
    },
    "id": "8ZZdSArqE1sV",
    "outputId": "8275d692-2cfe-4bf0-c165-218e13a2a0eb",
    "scrolled": false
   },
   "outputs": [
    {
     "name": "stdout",
     "output_type": "stream",
     "text": [
      "3.0    30586\n",
      "1.0    24873\n",
      "2.0    20120\n",
      "4.0     3859\n",
      "Name: EDUCATION_CD, dtype: int64\n"
     ]
    },
    {
     "data": {
      "text/plain": [
       "<seaborn.axisgrid.FacetGrid at 0x7f3b664a9f98>"
      ]
     },
     "execution_count": 11,
     "metadata": {
      "tags": []
     },
     "output_type": "execute_result"
    },
    {
     "data": {
      "image/png": "[encoded data removed]",
      "text/plain": [
       "<Figure size 360x360 with 1 Axes>"
      ]
     },
     "metadata": {
      "tags": []
     },
     "output_type": "display_data"
    }
   ],
   "source": [
    "print(df['EDUCATION_CD'].value_counts())\n",
    "sns.catplot(x=\"EDUCATION_CD\", y=\"Y1\", kind=\"bar\", data=df, ci=None)"
   ]
  },
  {
   "cell_type": "code",
   "execution_count": 0,
   "metadata": {
    "colab": {
     "base_uri": "https://localhost:8080/",
     "height": 473
    },
    "colab_type": "code",
    "executionInfo": {
     "elapsed": 9580,
     "status": "ok",
     "timestamp": 1569564531916,
     "user": {
      "displayName": "吳昱陞",
      "photoUrl": "https://lh3.googleusercontent.com/a-/AAuE7mDwbSNSYwDqvQx__AA0atitaVdkPHdvpVTMvyYq=s64",
      "userId": "05244345485167052723"
     },
     "user_tz": -480
    },
    "id": "DA2AAj8JE1sX",
    "outputId": "4af00c3e-eead-4898-b68d-9076cbbac686"
   },
   "outputs": [
    {
     "name": "stdout",
     "output_type": "stream",
     "text": [
      "0.0    64127\n",
      "1.0    26822\n",
      "2.0     1100\n",
      "Name: MARRIAGE_CD, dtype: int64\n"
     ]
    },
    {
     "data": {
      "text/plain": [
       "<seaborn.axisgrid.FacetGrid at 0x7f3b6d2d34e0>"
      ]
     },
     "execution_count": 12,
     "metadata": {
      "tags": []
     },
     "output_type": "execute_result"
    },
    {
     "data": {
      "image/png": "[encoded data removed]",
      "text/plain": [
       "<Figure size 360x360 with 1 Axes>"
      ]
     },
     "metadata": {
      "tags": []
     },
     "output_type": "display_data"
    }
   ],
   "source": [
    "print(df['MARRIAGE_CD'].value_counts())\n",
    "sns.catplot(x=\"MARRIAGE_CD\", y=\"Y1\", kind=\"bar\", data=df, ci=None)"
   ]
  },
  {
   "cell_type": "code",
   "execution_count": 0,
   "metadata": {
    "colab": {
     "base_uri": "https://localhost:8080/",
     "height": 456
    },
    "colab_type": "code",
    "executionInfo": {
     "elapsed": 9970,
     "status": "ok",
     "timestamp": 1569564532320,
     "user": {
      "displayName": "吳昱陞",
      "photoUrl": "https://lh3.googleusercontent.com/a-/AAuE7mDwbSNSYwDqvQx__AA0atitaVdkPHdvpVTMvyYq=s64",
      "userId": "05244345485167052723"
     },
     "user_tz": -480
    },
    "id": "x6xKkuhVE1sa",
    "outputId": "7e409391-bd36-46a1-da5d-5ce9d4f0e46c"
   },
   "outputs": [
    {
     "name": "stdout",
     "output_type": "stream",
     "text": [
      "N    64595\n",
      "Y    35405\n",
      "Name: LAST_A_CCONTACT_DT, dtype: int64\n"
     ]
    },
    {
     "data": {
      "text/plain": [
       "<seaborn.axisgrid.FacetGrid at 0x7f3b6ef30128>"
      ]
     },
     "execution_count": 13,
     "metadata": {
      "tags": []
     },
     "output_type": "execute_result"
    },
    {
     "data": {
      "image/png": "[encoded data removed]",
      "text/plain": [
       "<Figure size 360x360 with 1 Axes>"
      ]
     },
     "metadata": {
      "tags": []
     },
     "output_type": "display_data"
    }
   ],
   "source": [
    "print(df['LAST_A_CCONTACT_DT'].value_counts())\n",
    "sns.catplot(x=\"LAST_A_CCONTACT_DT\", y=\"Y1\", kind=\"bar\", data=df, ci=None)"
   ]
  },
  {
   "cell_type": "code",
   "execution_count": 0,
   "metadata": {
    "colab": {
     "base_uri": "https://localhost:8080/",
     "height": 720
    },
    "colab_type": "code",
    "executionInfo": {
     "elapsed": 10826,
     "status": "ok",
     "timestamp": 1569564533193,
     "user": {
      "displayName": "吳昱陞",
      "photoUrl": "https://lh3.googleusercontent.com/a-/AAuE7mDwbSNSYwDqvQx__AA0atitaVdkPHdvpVTMvyYq=s64",
      "userId": "05244345485167052723"
     },
     "user_tz": -480
    },
    "id": "ohjsbt1uE1sc",
    "outputId": "941d5953-ab48-4f63-f521-15cfe671481b",
    "scrolled": false
   },
   "outputs": [
    {
     "name": "stdout",
     "output_type": "stream",
     "text": [
      "0     93490\n",
      "1      3639\n",
      "2      1603\n",
      "3       695\n",
      "4       332\n",
      "5       114\n",
      "6        52\n",
      "7        23\n",
      "8        18\n",
      "9        15\n",
      "10        7\n",
      "12        6\n",
      "15        2\n",
      "16        1\n",
      "13        1\n",
      "14        1\n",
      "22        1\n",
      "Name: L1YR_A_ISSUE_CNT, dtype: int64\n"
     ]
    },
    {
     "data": {
      "text/plain": [
       "<seaborn.axisgrid.FacetGrid at 0x7f3b6ec66208>"
      ]
     },
     "execution_count": 14,
     "metadata": {
      "tags": []
     },
     "output_type": "execute_result"
    },
    {
     "data": {
      "image/png": "[encoded data removed]",
      "text/plain": [
       "<Figure size 360x360 with 1 Axes>"
      ]
     },
     "metadata": {
      "tags": []
     },
     "output_type": "display_data"
    }
   ],
   "source": [
    "print(df['L1YR_A_ISSUE_CNT'].value_counts())\n",
    "sns.catplot(x=\"L1YR_A_ISSUE_CNT\", y=\"Y1\", kind=\"bar\", data=df, ci=None)"
   ]
  },
  {
   "cell_type": "code",
   "execution_count": 0,
   "metadata": {
    "colab": {
     "base_uri": "https://localhost:8080/",
     "height": 456
    },
    "colab_type": "code",
    "executionInfo": {
     "elapsed": 11538,
     "status": "ok",
     "timestamp": 1569564533917,
     "user": {
      "displayName": "吳昱陞",
      "photoUrl": "https://lh3.googleusercontent.com/a-/AAuE7mDwbSNSYwDqvQx__AA0atitaVdkPHdvpVTMvyYq=s64",
      "userId": "05244345485167052723"
     },
     "user_tz": -480
    },
    "id": "dtXTQl__E1se",
    "outputId": "6a0eda30-07b4-4441-ca11-6fdda7010d99"
   },
   "outputs": [
    {
     "name": "stdout",
     "output_type": "stream",
     "text": [
      "N    88631\n",
      "Y    11369\n",
      "Name: LAST_A_ISSUE_DT, dtype: int64\n"
     ]
    },
    {
     "data": {
      "text/plain": [
       "<seaborn.axisgrid.FacetGrid at 0x7f3b6e80b4a8>"
      ]
     },
     "execution_count": 15,
     "metadata": {
      "tags": []
     },
     "output_type": "execute_result"
    },
    {
     "data": {
      "image/png": "[encoded data removed]",
      "text/plain": [
       "<Figure size 360x360 with 1 Axes>"
      ]
     },
     "metadata": {
      "tags": []
     },
     "output_type": "display_data"
    }
   ],
   "source": [
    "print(df['LAST_A_ISSUE_DT'].value_counts())\n",
    "sns.catplot(x=\"LAST_A_ISSUE_DT\", y=\"Y1\", kind=\"bar\", data=df, ci=None)"
   ]
  },
  {
   "cell_type": "code",
   "execution_count": 0,
   "metadata": {
    "colab": {
     "base_uri": "https://localhost:8080/",
     "height": 508
    },
    "colab_type": "code",
    "executionInfo": {
     "elapsed": 12269,
     "status": "ok",
     "timestamp": 1569564534660,
     "user": {
      "displayName": "吳昱陞",
      "photoUrl": "https://lh3.googleusercontent.com/a-/AAuE7mDwbSNSYwDqvQx__AA0atitaVdkPHdvpVTMvyYq=s64",
      "userId": "05244345485167052723"
     },
     "user_tz": -480
    },
    "id": "tA8S9KfRE1sg",
    "outputId": "c232dff0-ab43-4d38-94d2-42892f4f2dd8"
   },
   "outputs": [
    {
     "name": "stdout",
     "output_type": "stream",
     "text": [
      "0    99691\n",
      "1      289\n",
      "2       17\n",
      "3        2\n",
      "4        1\n",
      "Name: L1YR_B_ISSUE_CNT, dtype: int64\n"
     ]
    },
    {
     "data": {
      "text/plain": [
       "<seaborn.axisgrid.FacetGrid at 0x7f3b6a925e48>"
      ]
     },
     "execution_count": 16,
     "metadata": {
      "tags": []
     },
     "output_type": "execute_result"
    },
    {
     "data": {
      "image/png": "[encoded data removed]",
      "text/plain": [
       "<Figure size 360x360 with 1 Axes>"
      ]
     },
     "metadata": {
      "tags": []
     },
     "output_type": "display_data"
    }
   ],
   "source": [
    "print(df['L1YR_B_ISSUE_CNT'].value_counts())\n",
    "sns.catplot(x=\"L1YR_B_ISSUE_CNT\", y=\"Y1\", kind=\"bar\", data=df, ci=None)"
   ]
  },
  {
   "cell_type": "code",
   "execution_count": 0,
   "metadata": {
    "colab": {
     "base_uri": "https://localhost:8080/",
     "height": 456
    },
    "colab_type": "code",
    "executionInfo": {
     "elapsed": 13070,
     "status": "ok",
     "timestamp": 1569564535477,
     "user": {
      "displayName": "吳昱陞",
      "photoUrl": "https://lh3.googleusercontent.com/a-/AAuE7mDwbSNSYwDqvQx__AA0atitaVdkPHdvpVTMvyYq=s64",
      "userId": "05244345485167052723"
     },
     "user_tz": -480
    },
    "id": "_3kRH7VTE1si",
    "outputId": "1508b8d8-fc4c-4cda-816d-d9cf10a4ca6b"
   },
   "outputs": [
    {
     "name": "stdout",
     "output_type": "stream",
     "text": [
      "N    99453\n",
      "Y      547\n",
      "Name: LAST_B_ISSUE_DT, dtype: int64\n"
     ]
    },
    {
     "data": {
      "text/plain": [
       "<seaborn.axisgrid.FacetGrid at 0x7f3b6631d9b0>"
      ]
     },
     "execution_count": 17,
     "metadata": {
      "tags": []
     },
     "output_type": "execute_result"
    },
    {
     "data": {
      "image/png": "[encoded data removed]",
      "text/plain": [
       "<Figure size 360x360 with 1 Axes>"
      ]
     },
     "metadata": {
      "tags": []
     },
     "output_type": "display_data"
    }
   ],
   "source": [
    "print(df['LAST_B_ISSUE_DT'].value_counts())\n",
    "sns.catplot(x=\"LAST_B_ISSUE_DT\", y=\"Y1\", kind=\"bar\", data=df, ci=None)"
   ]
  },
  {
   "cell_type": "code",
   "execution_count": 0,
   "metadata": {
    "colab": {
     "base_uri": "https://localhost:8080/",
     "height": 1000
    },
    "colab_type": "code",
    "executionInfo": {
     "elapsed": 14783,
     "status": "ok",
     "timestamp": 1569564537204,
     "user": {
      "displayName": "吳昱陞",
      "photoUrl": "https://lh3.googleusercontent.com/a-/AAuE7mDwbSNSYwDqvQx__AA0atitaVdkPHdvpVTMvyYq=s64",
      "userId": "05244345485167052723"
     },
     "user_tz": -480
    },
    "id": "7-qILhV9E1sk",
    "outputId": "36194a80-1e2f-4693-8df9-e245e587dea3"
   },
   "outputs": [
    {
     "name": "stdout",
     "output_type": "stream",
     "text": [
      "0     55427\n",
      "1     14116\n",
      "2      9664\n",
      "3      6174\n",
      "4      4089\n",
      "5      2560\n",
      "6      1929\n",
      "7      1345\n",
      "8      1010\n",
      "9       740\n",
      "10      579\n",
      "11      398\n",
      "12      364\n",
      "13      255\n",
      "14      201\n",
      "15      165\n",
      "16      148\n",
      "17      135\n",
      "18       93\n",
      "19       80\n",
      "20       73\n",
      "21       62\n",
      "22       46\n",
      "23       44\n",
      "24       39\n",
      "25       32\n",
      "26       29\n",
      "28       26\n",
      "27       25\n",
      "29       17\n",
      "      ...  \n",
      "33        8\n",
      "32        8\n",
      "40        7\n",
      "38        5\n",
      "50        4\n",
      "48        4\n",
      "46        4\n",
      "42        4\n",
      "52        3\n",
      "53        3\n",
      "44        3\n",
      "41        3\n",
      "61        3\n",
      "39        2\n",
      "43        2\n",
      "59        2\n",
      "58        2\n",
      "57        2\n",
      "68        2\n",
      "55        2\n",
      "54        2\n",
      "82        2\n",
      "62        2\n",
      "93        1\n",
      "69        1\n",
      "97        1\n",
      "86        1\n",
      "56        1\n",
      "36        1\n",
      "45        1\n",
      "Name: CHANNEL_A_POL_CNT, Length: 65, dtype: int64\n"
     ]
    },
    {
     "data": {
      "text/plain": [
       "<seaborn.axisgrid.FacetGrid at 0x7f3b6a9614e0>"
      ]
     },
     "execution_count": 18,
     "metadata": {
      "tags": []
     },
     "output_type": "execute_result"
    },
    {
     "data": {
      "image/png": "[encoded data removed]",
      "text/plain": [
       "<Figure size 360x360 with 1 Axes>"
      ]
     },
     "metadata": {
      "tags": []
     },
     "output_type": "display_data"
    }
   ],
   "source": [
    "print(df['CHANNEL_A_POL_CNT'].value_counts())\n",
    "sns.catplot(x=\"CHANNEL_A_POL_CNT\", y=\"Y1\", kind=\"bar\", data=df, ci=None)"
   ]
  },
  {
   "cell_type": "code",
   "execution_count": 0,
   "metadata": {
    "colab": {
     "base_uri": "https://localhost:8080/",
     "height": 649
    },
    "colab_type": "code",
    "executionInfo": {
     "elapsed": 15158,
     "status": "ok",
     "timestamp": 1569564537591,
     "user": {
      "displayName": "吳昱陞",
      "photoUrl": "https://lh3.googleusercontent.com/a-/AAuE7mDwbSNSYwDqvQx__AA0atitaVdkPHdvpVTMvyYq=s64",
      "userId": "05244345485167052723"
     },
     "user_tz": -480
    },
    "id": "Z8KwirevE1sm",
    "outputId": "337a58bc-0b95-4bfb-e6a7-f2d9162f5514"
   },
   "outputs": [
    {
     "name": "stdout",
     "output_type": "stream",
     "text": [
      "0     97915\n",
      "1      1480\n",
      "2       382\n",
      "3       128\n",
      "4        55\n",
      "5        18\n",
      "6        11\n",
      "7         4\n",
      "9         2\n",
      "8         2\n",
      "17        1\n",
      "14        1\n",
      "11        1\n",
      "Name: CHANNEL_B_POL_CNT, dtype: int64\n"
     ]
    },
    {
     "data": {
      "text/plain": [
       "<seaborn.axisgrid.FacetGrid at 0x7f3b6a7ff7f0>"
      ]
     },
     "execution_count": 19,
     "metadata": {
      "tags": []
     },
     "output_type": "execute_result"
    },
    {
     "data": {
      "image/png": "[encoded data removed]",
      "text/plain": [
       "<Figure size 360x360 with 1 Axes>"
      ]
     },
     "metadata": {
      "tags": []
     },
     "output_type": "display_data"
    }
   ],
   "source": [
    "df_cp = df.copy()\n",
    "df_cp.drop(df_cp[df_cp['CHANNEL_B_POL_CNT'] > 4].index, inplace=True)\n",
    "print(df['CHANNEL_B_POL_CNT'].value_counts())\n",
    "sns.catplot(x=\"CHANNEL_B_POL_CNT\", y=\"Y1\", kind=\"bar\", data=df_cp, ci=None)"
   ]
  },
  {
   "cell_type": "code",
   "execution_count": 0,
   "metadata": {
    "colab": {
     "base_uri": "https://localhost:8080/",
     "height": 544
    },
    "colab_type": "code",
    "executionInfo": {
     "elapsed": 16197,
     "status": "ok",
     "timestamp": 1569564538642,
     "user": {
      "displayName": "吳昱陞",
      "photoUrl": "https://lh3.googleusercontent.com/a-/AAuE7mDwbSNSYwDqvQx__AA0atitaVdkPHdvpVTMvyYq=s64",
      "userId": "05244345485167052723"
     },
     "user_tz": -480
    },
    "id": "e5q4Y8oCE1so",
    "outputId": "6467bc34-615c-43c6-dc70-1ffb88f082aa"
   },
   "outputs": [
    {
     "name": "stdout",
     "output_type": "stream",
     "text": [
      "1.0    74372\n",
      "2.0    14517\n",
      "3.0     3827\n",
      "4.0     2025\n",
      "0.0      871\n",
      "5.0      226\n",
      "6.0      202\n",
      "Name: OCCUPATION_CLASS_CD, dtype: int64\n"
     ]
    },
    {
     "data": {
      "text/plain": [
       "<seaborn.axisgrid.FacetGrid at 0x7f3b6e7c4f60>"
      ]
     },
     "execution_count": 20,
     "metadata": {
      "tags": []
     },
     "output_type": "execute_result"
    },
    {
     "data": {
      "image/png": "[encoded data removed]",
      "text/plain": [
       "<Figure size 360x360 with 1 Axes>"
      ]
     },
     "metadata": {
      "tags": []
     },
     "output_type": "display_data"
    }
   ],
   "source": [
    "print(df['OCCUPATION_CLASS_CD'].value_counts())\n",
    "sns.catplot(x=\"OCCUPATION_CLASS_CD\", y=\"Y1\", kind=\"bar\", data=df, ci=None)"
   ]
  },
  {
   "cell_type": "code",
   "execution_count": 0,
   "metadata": {
    "colab": {
     "base_uri": "https://localhost:8080/",
     "height": 508
    },
    "colab_type": "code",
    "executionInfo": {
     "elapsed": 16892,
     "status": "ok",
     "timestamp": 1569564539354,
     "user": {
      "displayName": "吳昱陞",
      "photoUrl": "https://lh3.googleusercontent.com/a-/AAuE7mDwbSNSYwDqvQx__AA0atitaVdkPHdvpVTMvyYq=s64",
      "userId": "05244345485167052723"
     },
     "user_tz": -480
    },
    "id": "Sb9g3kI_E1sq",
    "outputId": "b3af623e-61c2-4f3e-ae2f-9f3ad43fa666"
   },
   "outputs": [
    {
     "name": "stdout",
     "output_type": "stream",
     "text": [
      "1    52987\n",
      "0    39610\n",
      "2     7099\n",
      "3      294\n",
      "4       10\n",
      "Name: APC_CNT, dtype: int64\n"
     ]
    },
    {
     "data": {
      "text/plain": [
       "<seaborn.axisgrid.FacetGrid at 0x7f3b6a831be0>"
      ]
     },
     "execution_count": 21,
     "metadata": {
      "tags": []
     },
     "output_type": "execute_result"
    },
    {
     "data": {
      "image/png": "[encoded data removed]",
      "text/plain": [
       "<Figure size 360x360 with 1 Axes>"
      ]
     },
     "metadata": {
      "tags": []
     },
     "output_type": "display_data"
    }
   ],
   "source": [
    "print(df['APC_CNT'].value_counts())\n",
    "sns.catplot(x=\"APC_CNT\", y=\"Y1\", kind=\"bar\", data=df, ci=None)"
   ]
  },
  {
   "cell_type": "code",
   "execution_count": 0,
   "metadata": {
    "colab": {
     "base_uri": "https://localhost:8080/",
     "height": 596
    },
    "colab_type": "code",
    "executionInfo": {
     "elapsed": 17580,
     "status": "ok",
     "timestamp": 1569564540055,
     "user": {
      "displayName": "吳昱陞",
      "photoUrl": "https://lh3.googleusercontent.com/a-/AAuE7mDwbSNSYwDqvQx__AA0atitaVdkPHdvpVTMvyYq=s64",
      "userId": "05244345485167052723"
     },
     "user_tz": -480
    },
    "id": "KsPGYZVRE1st",
    "outputId": "de5ced1f-545f-438f-a9c6-68d2fab5a484"
   },
   "outputs": [
    {
     "name": "stdout",
     "output_type": "stream",
     "text": [
      "0     83858\n",
      "1      8091\n",
      "2      4907\n",
      "3      2301\n",
      "4       706\n",
      "5       114\n",
      "6        20\n",
      "19        1\n",
      "12        1\n",
      "9         1\n",
      "Name: INSD_CNT, dtype: int64\n"
     ]
    },
    {
     "data": {
      "text/plain": [
       "<seaborn.axisgrid.FacetGrid at 0x7f3b6a8b4be0>"
      ]
     },
     "execution_count": 22,
     "metadata": {
      "tags": []
     },
     "output_type": "execute_result"
    },
    {
     "data": {
      "image/png": "[encoded data removed]",
      "text/plain": [
       "<Figure size 360x360 with 1 Axes>"
      ]
     },
     "metadata": {
      "tags": []
     },
     "output_type": "display_data"
    }
   ],
   "source": [
    "df_copy = df.copy()\n",
    "df_copy.drop(df_copy[df_copy['INSD_CNT'] > 8].index, inplace=True)\n",
    "print(df['INSD_CNT'].value_counts())\n",
    "sns.catplot(x=\"INSD_CNT\", y=\"Y1\", kind=\"bar\", data=df_copy, ci=None)"
   ]
  },
  {
   "cell_type": "code",
   "execution_count": 0,
   "metadata": {
    "colab": {
     "base_uri": "https://localhost:8080/",
     "height": 491
    },
    "colab_type": "code",
    "executionInfo": {
     "elapsed": 18503,
     "status": "ok",
     "timestamp": 1569564540991,
     "user": {
      "displayName": "吳昱陞",
      "photoUrl": "https://lh3.googleusercontent.com/a-/AAuE7mDwbSNSYwDqvQx__AA0atitaVdkPHdvpVTMvyYq=s64",
      "userId": "05244345485167052723"
     },
     "user_tz": -480
    },
    "id": "ugjKa8HtE1sx",
    "outputId": "7eb9436d-7ca7-4ec8-b439-2296b2fba6ed"
   },
   "outputs": [
    {
     "name": "stdout",
     "output_type": "stream",
     "text": [
      "中高    16507\n",
      "低     16443\n",
      "高     14758\n",
      "中      9010\n",
      "Name: APC_1ST_AGE, dtype: int64\n"
     ]
    },
    {
     "data": {
      "text/plain": [
       "<seaborn.axisgrid.FacetGrid at 0x7f3b65ee16d8>"
      ]
     },
     "execution_count": 23,
     "metadata": {
      "tags": []
     },
     "output_type": "execute_result"
    },
    {
     "data": {
      "image/png": "[encoded data removed]",
      "text/plain": [
       "<Figure size 360x360 with 1 Axes>"
      ]
     },
     "metadata": {
      "tags": []
     },
     "output_type": "display_data"
    }
   ],
   "source": [
    "print(df['APC_1ST_AGE'].value_counts())\n",
    "sns.catplot(x=\"APC_1ST_AGE\", y=\"Y1\", kind=\"bar\", data=df, ci=None)"
   ]
  },
  {
   "cell_type": "code",
   "execution_count": 0,
   "metadata": {
    "colab": {
     "base_uri": "https://localhost:8080/",
     "height": 491
    },
    "colab_type": "code",
    "executionInfo": {
     "elapsed": 19212,
     "status": "ok",
     "timestamp": 1569564541713,
     "user": {
      "displayName": "吳昱陞",
      "photoUrl": "https://lh3.googleusercontent.com/a-/AAuE7mDwbSNSYwDqvQx__AA0atitaVdkPHdvpVTMvyYq=s64",
      "userId": "05244345485167052723"
     },
     "user_tz": -480
    },
    "id": "i80lR3FjE1s1",
    "outputId": "b74c560e-f4ed-4e05-f9f8-000e9a5c3cd1"
   },
   "outputs": [
    {
     "name": "stdout",
     "output_type": "stream",
     "text": [
      "中     25698\n",
      "低     25170\n",
      "高     24974\n",
      "中高    23987\n",
      "Name: INSD_1ST_AGE, dtype: int64\n"
     ]
    },
    {
     "data": {
      "text/plain": [
       "<seaborn.axisgrid.FacetGrid at 0x7f3b6e80b4e0>"
      ]
     },
     "execution_count": 24,
     "metadata": {
      "tags": []
     },
     "output_type": "execute_result"
    },
    {
     "data": {
      "image/png": "[encoded data removed]",
      "text/plain": [
       "<Figure size 360x360 with 1 Axes>"
      ]
     },
     "metadata": {
      "tags": []
     },
     "output_type": "display_data"
    }
   ],
   "source": [
    "print(df['INSD_1ST_AGE'].value_counts())\n",
    "sns.catplot(x=\"INSD_1ST_AGE\", y=\"Y1\", kind=\"bar\", data=df, ci=None)"
   ]
  },
  {
   "cell_type": "code",
   "execution_count": 0,
   "metadata": {
    "colab": {
     "base_uri": "https://localhost:8080/",
     "height": 456
    },
    "colab_type": "code",
    "executionInfo": {
     "elapsed": 19908,
     "status": "ok",
     "timestamp": 1569564542425,
     "user": {
      "displayName": "吳昱陞",
      "photoUrl": "https://lh3.googleusercontent.com/a-/AAuE7mDwbSNSYwDqvQx__AA0atitaVdkPHdvpVTMvyYq=s64",
      "userId": "05244345485167052723"
     },
     "user_tz": -480
    },
    "id": "rcLQ1i9KE1s4",
    "outputId": "141b2daa-baed-4cc3-b69b-971b0a569b08"
   },
   "outputs": [
    {
     "name": "stdout",
     "output_type": "stream",
     "text": [
      "Y    54315\n",
      "N    45685\n",
      "Name: IF_2ND_GEN_IND, dtype: int64\n"
     ]
    },
    {
     "data": {
      "text/plain": [
       "<seaborn.axisgrid.FacetGrid at 0x7f3b65e18cf8>"
      ]
     },
     "execution_count": 25,
     "metadata": {
      "tags": []
     },
     "output_type": "execute_result"
    },
    {
     "data": {
      "image/png": "[encoded data removed]",
      "text/plain": [
       "<Figure size 360x360 with 1 Axes>"
      ]
     },
     "metadata": {
      "tags": []
     },
     "output_type": "display_data"
    }
   ],
   "source": [
    "print(df['IF_2ND_GEN_IND'].value_counts())\n",
    "sns.catplot(x=\"IF_2ND_GEN_IND\", y=\"Y1\", kind=\"bar\", data=df, ci=None)"
   ]
  },
  {
   "cell_type": "code",
   "execution_count": 0,
   "metadata": {
    "colab": {
     "base_uri": "https://localhost:8080/",
     "height": 684
    },
    "colab_type": "code",
    "executionInfo": {
     "elapsed": 20774,
     "status": "ok",
     "timestamp": 1569564543303,
     "user": {
      "displayName": "吳昱陞",
      "photoUrl": "https://lh3.googleusercontent.com/a-/AAuE7mDwbSNSYwDqvQx__AA0atitaVdkPHdvpVTMvyYq=s64",
      "userId": "05244345485167052723"
     },
     "user_tz": -480
    },
    "id": "rpc5dp5IiKZJ",
    "outputId": "747c2d50-ef90-40b4-f00e-ef91221edae0"
   },
   "outputs": [
    {
     "name": "stdout",
     "output_type": "stream",
     "text": [
      "count    56718.000000\n",
      "mean         0.258769\n",
      "std          0.182968\n",
      "min          0.000000\n",
      "25%          0.116279\n",
      "50%          0.209302\n",
      "75%          0.418605\n",
      "max          0.930233\n",
      "Name: APC_1ST_YEARDIF, dtype: float64\n",
      "43282\n",
      "-1.0    43282\n",
      " 4.0    15852\n",
      " 2.0    15507\n",
      " 3.0    13211\n",
      " 1.0    12148\n",
      "Name: APC_1ST_YEARDIF, dtype: int64\n"
     ]
    },
    {
     "data": {
      "text/plain": [
       "<seaborn.axisgrid.FacetGrid at 0x7f3b65d07ba8>"
      ]
     },
     "execution_count": 26,
     "metadata": {
      "tags": []
     },
     "output_type": "execute_result"
    },
    {
     "data": {
      "image/png": "[encoded data removed]",
      "text/plain": [
       "<Figure size 360x360 with 1 Axes>"
      ]
     },
     "metadata": {
      "tags": []
     },
     "output_type": "display_data"
    }
   ],
   "source": [
    "df_copy = df.copy()\n",
    "print(df_copy['APC_1ST_YEARDIF'].describe())\n",
    "print(df_copy['APC_1ST_YEARDIF'].isna().sum())\n",
    "per_25 = df_copy['APC_1ST_YEARDIF'].describe()['25%']\n",
    "per_50 = df_copy['APC_1ST_YEARDIF'].describe()['50%']\n",
    "per_75 = df_copy['APC_1ST_YEARDIF'].describe()['75%']\n",
    "df_copy.fillna({'APC_1ST_YEARDIF':-1}, inplace=True)\n",
    "\n",
    "df_copy.loc[df_copy[(0. <= df_copy['APC_1ST_YEARDIF']) & (df_copy['APC_1ST_YEARDIF'] <= per_25)].index, ['APC_1ST_YEARDIF']] = 4\n",
    "df_copy.loc[df_copy[(per_25 < df_copy['APC_1ST_YEARDIF']) & (df_copy['APC_1ST_YEARDIF'] <= per_50)].index, ['APC_1ST_YEARDIF']] = 3\n",
    "df_copy.loc[df_copy[(per_50 < df_copy['APC_1ST_YEARDIF']) & (df_copy['APC_1ST_YEARDIF'] <= per_75)].index, ['APC_1ST_YEARDIF']] = 2\n",
    "df_copy.loc[df_copy[(per_75 < df_copy['APC_1ST_YEARDIF']) & (df_copy['APC_1ST_YEARDIF'] < 1.0)].index, ['APC_1ST_YEARDIF']] = 1\n",
    "print(df_copy['APC_1ST_YEARDIF'].value_counts())\n",
    "sns.catplot(x=\"APC_1ST_YEARDIF\", y=\"Y1\", kind=\"bar\", data=df_copy, ci=None)"
   ]
  },
  {
   "cell_type": "code",
   "execution_count": 0,
   "metadata": {
    "colab": {
     "base_uri": "https://localhost:8080/",
     "height": 491
    },
    "colab_type": "code",
    "executionInfo": {
     "elapsed": 21448,
     "status": "ok",
     "timestamp": 1569564543989,
     "user": {
      "displayName": "吳昱陞",
      "photoUrl": "https://lh3.googleusercontent.com/a-/AAuE7mDwbSNSYwDqvQx__AA0atitaVdkPHdvpVTMvyYq=s64",
      "userId": "05244345485167052723"
     },
     "user_tz": -480
    },
    "id": "boK0FiQ5E1s6",
    "outputId": "179f14dd-de47-4f41-9da2-200a565911b0"
   },
   "outputs": [
    {
     "name": "stdout",
     "output_type": "stream",
     "text": [
      "低     17506\n",
      "中高    14616\n",
      "高     12293\n",
      "中     12291\n",
      "Name: RFM_R, dtype: int64\n"
     ]
    },
    {
     "data": {
      "text/plain": [
       "<seaborn.axisgrid.FacetGrid at 0x7f3b65d979b0>"
      ]
     },
     "execution_count": 27,
     "metadata": {
      "tags": []
     },
     "output_type": "execute_result"
    },
    {
     "data": {
      "image/png": "[encoded data removed]",
      "text/plain": [
       "<Figure size 360x360 with 1 Axes>"
      ]
     },
     "metadata": {
      "tags": []
     },
     "output_type": "display_data"
    }
   ],
   "source": [
    "print(df['RFM_R'].value_counts())\n",
    "sns.catplot(x=\"RFM_R\", y=\"Y1\", kind=\"bar\", data=df, ci=None)"
   ]
  },
  {
   "cell_type": "code",
   "execution_count": 0,
   "metadata": {
    "colab": {
     "base_uri": "https://localhost:8080/",
     "height": 491
    },
    "colab_type": "code",
    "executionInfo": {
     "elapsed": 23683,
     "status": "ok",
     "timestamp": 1569564546238,
     "user": {
      "displayName": "吳昱陞",
      "photoUrl": "https://lh3.googleusercontent.com/a-/AAuE7mDwbSNSYwDqvQx__AA0atitaVdkPHdvpVTMvyYq=s64",
      "userId": "05244345485167052723"
     },
     "user_tz": -480
    },
    "id": "qm9pCTRqE1s8",
    "outputId": "a2506765-530c-45fb-8c0e-5df0cdaa16c1"
   },
   "outputs": [
    {
     "name": "stdout",
     "output_type": "stream",
     "text": [
      "低     27778\n",
      "中     12267\n",
      "高     10418\n",
      "中高     6255\n",
      "Name: REBUY_TIMES_CNT, dtype: int64\n"
     ]
    },
    {
     "data": {
      "text/plain": [
       "<seaborn.axisgrid.FacetGrid at 0x7f3b65c9c198>"
      ]
     },
     "execution_count": 28,
     "metadata": {
      "tags": []
     },
     "output_type": "execute_result"
    },
    {
     "data": {
      "image/png": "[encoded data removed]",
      "text/plain": [
       "<Figure size 360x360 with 1 Axes>"
      ]
     },
     "metadata": {
      "tags": []
     },
     "output_type": "display_data"
    }
   ],
   "source": [
    "print(df['REBUY_TIMES_CNT'].value_counts())\n",
    "sns.catplot(x=\"REBUY_TIMES_CNT\", y=\"Y1\", kind=\"bar\", data=df, ci=None)"
   ]
  },
  {
   "cell_type": "code",
   "execution_count": 0,
   "metadata": {
    "colab": {
     "base_uri": "https://localhost:8080/",
     "height": 508
    },
    "colab_type": "code",
    "executionInfo": {
     "elapsed": 23669,
     "status": "ok",
     "timestamp": 1569564546239,
     "user": {
      "displayName": "吳昱陞",
      "photoUrl": "https://lh3.googleusercontent.com/a-/AAuE7mDwbSNSYwDqvQx__AA0atitaVdkPHdvpVTMvyYq=s64",
      "userId": "05244345485167052723"
     },
     "user_tz": -480
    },
    "id": "Yy5ZjGNxE1tA",
    "outputId": "118b9cf4-52b1-41d7-f0a7-0ec95ec8ec7a"
   },
   "outputs": [
    {
     "name": "stdout",
     "output_type": "stream",
     "text": [
      "5.0    28415\n",
      "1.0    13940\n",
      "4.0     6490\n",
      "3.0     4041\n",
      "2.0     3809\n",
      "Name: LEVEL, dtype: int64\n"
     ]
    },
    {
     "data": {
      "text/plain": [
       "<seaborn.axisgrid.FacetGrid at 0x7f3b65c944a8>"
      ]
     },
     "execution_count": 29,
     "metadata": {
      "tags": []
     },
     "output_type": "execute_result"
    },
    {
     "data": {
      "image/png": "[encoded data removed]",
      "text/plain": [
       "<Figure size 360x360 with 1 Axes>"
      ]
     },
     "metadata": {
      "tags": []
     },
     "output_type": "display_data"
    }
   ],
   "source": [
    "print(df['LEVEL'].value_counts())\n",
    "sns.catplot(x=\"LEVEL\", y=\"Y1\", kind=\"bar\", data=df, ci=None)"
   ]
  },
  {
   "cell_type": "code",
   "execution_count": 0,
   "metadata": {
    "colab": {
     "base_uri": "https://localhost:8080/",
     "height": 526
    },
    "colab_type": "code",
    "executionInfo": {
     "elapsed": 23657,
     "status": "ok",
     "timestamp": 1569564546239,
     "user": {
      "displayName": "吳昱陞",
      "photoUrl": "https://lh3.googleusercontent.com/a-/AAuE7mDwbSNSYwDqvQx__AA0atitaVdkPHdvpVTMvyYq=s64",
      "userId": "05244345485167052723"
     },
     "user_tz": -480
    },
    "id": "D7BiSpD6E1tC",
    "outputId": "70a87ead-b330-4680-be74-7a54b4af8d89"
   },
   "outputs": [
    {
     "name": "stdout",
     "output_type": "stream",
     "text": [
      "3.0     20799\n",
      "5.0     11832\n",
      "8.0      7753\n",
      "7.0      7296\n",
      "9.0      4865\n",
      "10.0     4173\n",
      "Name: RFM_M_LEVEL, dtype: int64\n"
     ]
    },
    {
     "data": {
      "text/plain": [
       "<seaborn.axisgrid.FacetGrid at 0x7f3b6a6b1f98>"
      ]
     },
     "execution_count": 30,
     "metadata": {
      "tags": []
     },
     "output_type": "execute_result"
    },
    {
     "data": {
      "image/png": "[encoded data removed]",
      "text/plain": [
       "<Figure size 360x360 with 1 Axes>"
      ]
     },
     "metadata": {
      "tags": []
     },
     "output_type": "display_data"
    }
   ],
   "source": [
    "print(df['RFM_M_LEVEL'].value_counts())\n",
    "sns.catplot(x=\"RFM_M_LEVEL\", y=\"Y1\", kind=\"bar\", data=df, ci=None)"
   ]
  },
  {
   "cell_type": "code",
   "execution_count": 0,
   "metadata": {
    "colab": {
     "base_uri": "https://localhost:8080/",
     "height": 473
    },
    "colab_type": "code",
    "executionInfo": {
     "elapsed": 24026,
     "status": "ok",
     "timestamp": 1569564546620,
     "user": {
      "displayName": "吳昱陞",
      "photoUrl": "https://lh3.googleusercontent.com/a-/AAuE7mDwbSNSYwDqvQx__AA0atitaVdkPHdvpVTMvyYq=s64",
      "userId": "05244345485167052723"
     },
     "user_tz": -480
    },
    "id": "vDX0VMESE1tE",
    "outputId": "8c6a93b2-5959-4ad1-b280-8a4a4d13d857"
   },
   "outputs": [
    {
     "name": "stdout",
     "output_type": "stream",
     "text": [
      "低    55451\n",
      "中    27078\n",
      "高    17471\n",
      "Name: LIFE_CNT, dtype: int64\n"
     ]
    },
    {
     "data": {
      "text/plain": [
       "<seaborn.axisgrid.FacetGrid at 0x7f3b6a6f4cf8>"
      ]
     },
     "execution_count": 31,
     "metadata": {
      "tags": []
     },
     "output_type": "execute_result"
    },
    {
     "data": {
      "image/png": "[encoded data removed]",
      "text/plain": [
       "<Figure size 360x360 with 1 Axes>"
      ]
     },
     "metadata": {
      "tags": []
     },
     "output_type": "display_data"
    }
   ],
   "source": [
    "print(df['LIFE_CNT'].value_counts())\n",
    "sns.catplot(x=\"LIFE_CNT\", y=\"Y1\", kind=\"bar\", data=df, ci=None)"
   ]
  },
  {
   "cell_type": "code",
   "execution_count": 0,
   "metadata": {
    "colab": {
     "base_uri": "https://localhost:8080/",
     "height": 438
    },
    "colab_type": "code",
    "executionInfo": {
     "elapsed": 26661,
     "status": "ok",
     "timestamp": 1569564549271,
     "user": {
      "displayName": "吳昱陞",
      "photoUrl": "https://lh3.googleusercontent.com/a-/AAuE7mDwbSNSYwDqvQx__AA0atitaVdkPHdvpVTMvyYq=s64",
      "userId": "05244345485167052723"
     },
     "user_tz": -480
    },
    "id": "NVKgCJJ3E1tG",
    "outputId": "57f3797f-d0c6-43bf-e685-7334b345fa4d",
    "scrolled": true
   },
   "outputs": [
    {
     "name": "stderr",
     "output_type": "stream",
     "text": [
      "/usr/local/lib/python3.6/dist-packages/matplotlib/font_manager.py:1241: UserWarning: findfont: Font family ['sans-serif'] not found. Falling back to DejaVu Sans.\n",
      "  (prop.get_family(), self.defaultFamily[fontext]))\n"
     ]
    },
    {
     "data": {
      "text/plain": [
       "<seaborn.axisgrid.FacetGrid at 0x7f3b65b9bb70>"
      ]
     },
     "execution_count": 32,
     "metadata": {
      "tags": []
     },
     "output_type": "execute_result"
    },
    {
     "data": {
      "image/png": "[encoded data removed]",
      "text/plain": [
       "<Figure size 412.85x360 with 1 Axes>"
      ]
     },
     "metadata": {
      "tags": []
     },
     "output_type": "display_data"
    }
   ],
   "source": [
    "sns.catplot(x=\"GENDER\", y=\"Y1\", hue=\"AGE\", kind=\"bar\", data=df)"
   ]
  },
  {
   "cell_type": "code",
   "execution_count": 0,
   "metadata": {
    "colab": {},
    "colab_type": "code",
    "id": "GWc6Fb_FE1tI"
   },
   "outputs": [],
   "source": []
  }
 ],
 "metadata": {
  "colab": {
   "name": "analysis_features1_26.ipynb",
   "provenance": []
  },
  "kernelspec": {
   "display_name": "Python 3",
   "language": "python",
   "name": "python3"
  },
  "language_info": {
   "codemirror_mode": {
    "name": "ipython",
    "version": 3
   },
   "file_extension": ".py",
   "mimetype": "text/x-python",
   "name": "python",
   "nbconvert_exporter": "python",
   "pygments_lexer": "ipython3",
   "version": "3.6.12"
  }
 },
 "nbformat": 4,
 "nbformat_minor": 1
}
